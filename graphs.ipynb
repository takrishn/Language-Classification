{
 "cells": [
  {
   "cell_type": "code",
   "execution_count": 1,
   "metadata": {},
   "outputs": [],
   "source": [
    "from __future__ import unicode_literals, print_function, division\n",
    "\n",
    "import glob\n",
    "import os\n",
    "import random\n",
    "import time\n",
    "import math\n",
    "import torch\n",
    "import torchvision\n",
    "import unicodedata\n",
    "import string\n",
    "\n",
    "import pandas as pd\n",
    "import torch.nn as nn\n",
    "import torchvision.transforms as transforms\n",
    "\n",
    "from io import open\n",
    "from matplotlib import pyplot as plt\n",
    "from collections import defaultdict\n",
    "from sklearn.model_selection import train_test_split"
   ]
  },
  {
   "cell_type": "code",
   "execution_count": 2,
   "metadata": {},
   "outputs": [],
   "source": [
    "# Build the language_words dictionary, a list of words per language\n",
    "def parseCSV(file):\n",
    "    \"\"\"returns pandas dataframe from CSV file\"\"\"\n",
    "    data = pd.read_csv(file)\n",
    "    return data\n",
    "\n",
    "def reformatData(data):\n",
    "    \"\"\"takes in pandas dataframe and outputs data in right format\"\"\"\n",
    "    language_words = defaultdict(list) \n",
    "    data = data.to_dict('split')['data']\n",
    "    \n",
    "    for entry in data:\n",
    "        language_words[entry[1]].append(entry[0])\n",
    "        \n",
    "    return dict(language_words)\n",
    "\n",
    "csv_data = parseCSV('language_dataset.csv')\n",
    "train_data, test_data = train_test_split(csv_data, test_size=0.2)\n",
    "\n",
    "training_words = reformatData(train_data)\n",
    "testing_words = reformatData(test_data)\n",
    "\n",
    "all_languages = list(training_words.keys())\n",
    "n_languages = len(all_languages)"
   ]
  },
  {
   "cell_type": "markdown",
   "metadata": {},
   "source": [
    "Parse our language dataset and populate four variables we will be using later:\n",
    "\n",
    "training_words = `{'Simlish': ['Dag Dag', 'Zagadoo', ...], 'English': ['event', ..], ...}`\n",
    "\n",
    "test_words = same format at training_words\n",
    "\n",
    "all_languages = `['English', 'Spanish', 'Tolkien Elvish', ...]`\n",
    "\n",
    "n_languages = 7"
   ]
  },
  {
   "cell_type": "code",
   "execution_count": 3,
   "metadata": {},
   "outputs": [
    {
     "name": "stdout",
     "output_type": "stream",
     "text": [
      "n_letters: 112\n",
      "all_letters: [' ', \"'\", '(', ')', ',', '-', '.', '/', ';', '?', 'A', 'B', 'C', 'D', 'E', 'F', 'G', 'H', 'I', 'J', 'K', 'L', 'M', 'N', 'O', 'P', 'Q', 'R', 'S', 'T', 'U', 'V', 'W', 'X', 'Y', 'Z', 'a', 'b', 'c', 'd', 'e', 'f', 'g', 'h', 'i', 'j', 'k', 'l', 'm', 'n', 'o', 'p', 'q', 'r', 's', 't', 'u', 'v', 'w', 'x', 'y', 'z', '²', '¹', 'Ä', 'Ö', 'Ü', 'ß', 'à', 'á', 'â', 'ä', 'ç', 'è', 'é', 'ê', 'ë', 'ì', 'í', 'î', 'ï', 'ñ', 'ò', 'ó', 'ô', 'ö', 'ù', 'ú', 'û', 'ü', 'þ', 'ā', 'ă', 'ē', 'ĕ', 'ī', 'ĭ', 'ō', 'ŏ', 'œ', 'ū', 'ƀ', 'ʒ', 'ˢ', '́', '̆', '̣', '̯', 'ṃ', 'ṇ', '’', '…']\n"
     ]
    }
   ],
   "source": [
    "# populate all_letters with alphabet lower and upper \n",
    "# along with spaces and a few other punctuations\n",
    "all_letters = set()\n",
    "\n",
    "for letter in string.ascii_letters + \" .,;'\" + 'áéíóúüñàèìòùçâêîôûëïäöß()-āēīōū’ā̆ē̆ī̆ō̆ăĭḗū́u̯ṇ̃þʒ¹²/':\n",
    "    all_letters.add(letter)\n",
    "\n",
    "# we also need to include special characters found in certain languages\n",
    "# primarily Tolkien Elvish and Spanish\n",
    "for lang in training_words.keys():\n",
    "    for word in training_words[lang]:\n",
    "        for letter in word:\n",
    "            all_letters.add(letter)\n",
    "            \n",
    "for lang in testing_words.keys():\n",
    "    for word in testing_words[lang]:\n",
    "        for letter in word:\n",
    "            all_letters.add(letter)      \n",
    "            \n",
    "n_letters = len(all_letters)\n",
    "all_letters = sorted(list(all_letters))\n",
    "print('n_letters:', n_letters)\n",
    "print('all_letters:', all_letters)"
   ]
  },
  {
   "cell_type": "code",
   "execution_count": 4,
   "metadata": {},
   "outputs": [],
   "source": [
    "# Turn names into tensors\n",
    "# Find letter index from all_letters, e.g. \"a\" = 0\n",
    "def letterToIndex(letter):\n",
    "    try:\n",
    "        if letter == '\\xa0':\n",
    "            letter = ' '\n",
    "        return all_letters.index(letter)\n",
    "    except:\n",
    "        return None\n",
    "\n",
    "# Just for demonstration, turn a letter into a <1 x n_letters> Tensor\n",
    "def letterToTensor(letter):\n",
    "    tensor = torch.zeros(1, n_letters)\n",
    "    tensor[0][letterToIndex(letter)] = 1\n",
    "    return tensor"
   ]
  },
  {
   "cell_type": "code",
   "execution_count": 5,
   "metadata": {},
   "outputs": [],
   "source": [
    "# Turn a line into a <line_length x 1 x n_letters> tensor\n",
    "def lineToTensor(line):\n",
    "    tensor = torch.zeros(len(line), 1, n_letters)\n",
    "    for li, letter in enumerate(line):\n",
    "        tensor[li][0][letterToIndex(letter)] = 1\n",
    "    return tensor\n",
    "\n",
    "def categoryFromOutput(output):\n",
    "    top_n, top_i = output.topk(1)\n",
    "    language_i = top_i[0].item()\n",
    "    return all_languages[language_i], language_i"
   ]
  },
  {
   "cell_type": "code",
   "execution_count": 6,
   "metadata": {},
   "outputs": [],
   "source": [
    "def randomChoice(l):\n",
    "    return l[random.randint(0, len(l) - 1)]\n",
    "\n",
    "def randomTrainingExample():\n",
    "    category = randomChoice(all_languages) # choose a random language\n",
    "    line = randomChoice(training_words[category]) # choose a random word from that language\n",
    "    # turn the language into a 1D tensor\n",
    "    category_tensor = torch.tensor([all_languages.index(category)], dtype=torch.long)\n",
    "    # line_tensor is a 2D tensor containing a tensor for each letter\n",
    "    line_tensor = lineToTensor(line)\n",
    "    return category, line, category_tensor, line_tensor"
   ]
  },
  {
   "cell_type": "code",
   "execution_count": 7,
   "metadata": {},
   "outputs": [],
   "source": [
    "class RNN(nn.Module):\n",
    "    def __init__(self, input_size, hidden_size, output_size):\n",
    "        super(RNN, self).__init__()\n",
    "\n",
    "        # Put the declaration of RNN network here\n",
    "        self.hidden_size = hidden_size\n",
    "    \n",
    "        self.i2h = nn.Linear(input_size + hidden_size, hidden_size)\n",
    "        self.i2o = nn.Linear(input_size + hidden_size, output_size)\n",
    "        self.softmax = nn.LogSoftmax(dim=1)\n",
    "\n",
    "    def forward(self, input, hidden):\n",
    "        # Put the computation for forward pass here\n",
    "        combined = torch.cat((input, hidden), 1)\n",
    "        output = self.i2o(combined)\n",
    "        output = self.softmax(output)\n",
    "        hidden = self.i2h(combined)\n",
    "\n",
    "        return output, hidden\n",
    "\n",
    "    def initHidden(self):\n",
    "        return torch.zeros(1, self.hidden_size)"
   ]
  },
  {
   "cell_type": "code",
   "execution_count": 8,
   "metadata": {},
   "outputs": [],
   "source": [
    "n_hidden = 128\n",
    "rnn = RNN(n_letters, n_hidden, n_languages)"
   ]
  },
  {
   "cell_type": "code",
   "execution_count": 9,
   "metadata": {},
   "outputs": [],
   "source": [
    "def train_iteration_CharRNN(learning_rate, category_tensor, line_tensor):\n",
    "    criterion = nn.NLLLoss()\n",
    "    hidden = rnn.initHidden()\n",
    "    rnn.zero_grad()\n",
    "\n",
    "    # The forward process\n",
    "    for i in range(line_tensor.size()[0]):\n",
    "        output, hidden = rnn(line_tensor[i], hidden)\n",
    "\n",
    "    # The backward process\n",
    "    loss = criterion(output, category_tensor)\n",
    "    loss.backward()\n",
    "\n",
    "    # Add parameters' gradients to their values, multiplied by learning rate\n",
    "    for p in rnn.parameters():\n",
    "        p.data.add_(-learning_rate, p.grad.data)\n",
    "\n",
    "    return output, loss.item()\n"
   ]
  },
  {
   "cell_type": "code",
   "execution_count": 10,
   "metadata": {},
   "outputs": [],
   "source": [
    "def train_charRNN(n_iters, learning_rate):\n",
    "    print_every = 1000\n",
    "    current_loss = 0\n",
    "    losses = []\n",
    "\n",
    "    def timeSince(since):\n",
    "        now = time.time()\n",
    "        s = now - since\n",
    "        m = math.floor(s / 60)\n",
    "        s -= m * 60\n",
    "        return '%dm %ds' % (m, s)\n",
    "\n",
    "    start = time.time()\n",
    "\n",
    "    for iter in range(1, n_iters + 1):\n",
    "        category, line, category_tensor, line_tensor = randomTrainingExample()\n",
    "        output, loss = train_iteration_CharRNN(learning_rate, category_tensor, line_tensor)\n",
    "        current_loss += loss\n",
    "\n",
    "        # Print iter number, loss, name and guess\n",
    "        if iter % print_every == 0:\n",
    "            guess, guess_i = categoryFromOutput(output)\n",
    "            correct = '✓' if guess == category else '✗ (%s)' % category\n",
    "            print('%d %d%% (%s) %.4f %s / %s %s' % (\n",
    "                iter, iter / n_iters * 100, timeSince(start), loss, line, guess, correct))\n",
    "            print('Average loss: %.4f' % (current_loss/print_every))\n",
    "            losses.append(current_loss/print_every)\n",
    "            current_loss = 0\n",
    "\n",
    "    torch.save(rnn, 'char-rnn-classification.pt')\n",
    "    return losses"
   ]
  },
  {
   "cell_type": "code",
   "execution_count": 11,
   "metadata": {},
   "outputs": [],
   "source": [
    "# Finish the prediction function to provide predictions for any \n",
    "# input string (name) from the user\n",
    "def predict(input_line, n_predictions=7):\n",
    "#     print(\"Prediction for %s:\" % input_line)\n",
    "    hidden = rnn.initHidden()\n",
    "\n",
    "    # Generate the input for RNN\n",
    "    line_tensor = lineToTensor(input_line)\n",
    "    for i in range(line_tensor.size()[0]):\n",
    "        output, hidden = rnn(line_tensor[i], hidden)\n",
    "\n",
    "    # Get the value and index of top K predictions from the output\n",
    "    # Then apply Softmax function on the scores of all category predictions so we can \n",
    "    # output the probabilities that this name belongs to different languages.\n",
    "    topv, topi = output.data.topk(n_predictions, 1, True)\n",
    "    softmax = nn.Softmax(dim=1)\n",
    "    top_prob = softmax(topv)\n",
    "    predictions = []\n",
    " \n",
    "    for i in range(3):\n",
    "        value = topv[0][i]\n",
    "        prob = top_prob[0][i] * 100\n",
    "        category_index = topi[0][i]\n",
    "#         print('%s Probability: (%.2f), Score: (%.2f)' % (all_languages[category_index], prob, value))\n",
    "        predictions.append([value, all_languages[category_index]])\n",
    "    return predictions"
   ]
  },
  {
   "cell_type": "code",
   "execution_count": 12,
   "metadata": {},
   "outputs": [
    {
     "name": "stdout",
     "output_type": "stream",
     "text": [
      "1000 10% (0m 6s) 1.6049 caminar / English ✗ (Spanish)\n",
      "Average loss: 1.8484\n",
      "2000 20% (0m 11s) 1.5549 controllare / French ✗ (Italian)\n",
      "Average loss: 1.6648\n",
      "3000 30% (0m 16s) 1.9913 stampa / Tolkien Elvish ✗ (Italian)\n",
      "Average loss: 1.5062\n",
      "4000 40% (0m 22s) 1.3368 venire / French ✗ (Italian)\n",
      "Average loss: 1.4634\n",
      "5000 50% (0m 27s) 2.0038 boutique / Simlish ✗ (French)\n",
      "Average loss: 1.3270\n",
      "6000 60% (0m 32s) 1.0491 autre / French ✓\n",
      "Average loss: 1.2801\n",
      "7000 70% (0m 37s) 0.8360 morokō / Tolkien Elvish ✓\n",
      "Average loss: 1.1987\n",
      "8000 80% (0m 42s) 0.8655 guerra / Italian ✓\n",
      "Average loss: 1.1608\n",
      "9000 90% (0m 48s) 1.0197 massa / Spanish ✗ (Italian)\n",
      "Average loss: 1.1610\n",
      "10000 100% (0m 52s) 1.2112 suffixe / French ✓\n",
      "Average loss: 1.0866\n"
     ]
    },
    {
     "name": "stderr",
     "output_type": "stream",
     "text": [
      "C:\\ProgramData\\Anaconda3\\lib\\site-packages\\torch\\serialization.py:360: UserWarning: Couldn't retrieve source code for container of type RNN. It won't be checked for correctness upon loading.\n",
      "  \"type \" + obj.__name__ + \". It won't be checked \"\n"
     ]
    }
   ],
   "source": [
    "losses = train_charRNN(10000, 0.02)"
   ]
  },
  {
   "cell_type": "code",
   "execution_count": 13,
   "metadata": {},
   "outputs": [
    {
     "name": "stdout",
     "output_type": "stream",
     "text": [
      "[1.848379092335701, 1.6647886455655099, 1.5061874838471412, 1.4634344609379768, 1.3269642677009106, 1.2801008117515593, 1.1986933440165595, 1.1607627600552515, 1.1610006441567093, 1.0866014264065307]\n"
     ]
    },
    {
     "data": {
      "image/png": "[encoded data removed]",
      "text/plain": [
       "<Figure size 432x288 with 1 Axes>"
      ]
     },
     "metadata": {
      "needs_background": "light"
     },
     "output_type": "display_data"
    }
   ],
   "source": [
    "print(losses)\n",
    "plt.plot(losses)\n",
    "plt.xlabel('Training Iteration * 1000')\n",
    "plt.ylabel('Average Loss per 1000 Iterations')\n",
    "plt.title('Loss')\n",
    "plt.show()"
   ]
  },
  {
   "cell_type": "code",
   "execution_count": 14,
   "metadata": {},
   "outputs": [],
   "source": [
    "def getAccuracy(dataset):\n",
    "    total_words = len(dataset.index)\n",
    "    correct_predictions = 0\n",
    "    for i in dataset.index:\n",
    "        word = dataset['Word'][i]\n",
    "        language = dataset['Language'][i]\n",
    "        prediction = predict(word)[0][1]\n",
    "        if prediction == language:\n",
    "            correct_predictions += 1\n",
    "    return correct_predictions / total_words"
   ]
  },
  {
   "cell_type": "code",
   "execution_count": 15,
   "metadata": {},
   "outputs": [
    {
     "name": "stdout",
     "output_type": "stream",
     "text": [
      "training data accuracy: 60.4129%\n",
      "testing data accuracy: 57.0018%\n"
     ]
    }
   ],
   "source": [
    "print('training data accuracy: {:.4f}%'.format(getAccuracy(train_data) * 100))\n",
    "print('testing data accuracy: {:.4f}%'.format(getAccuracy(test_data) * 100))"
   ]
  },
  {
   "cell_type": "code",
   "execution_count": null,
   "metadata": {},
   "outputs": [],
   "source": []
  },
  {
   "cell_type": "code",
   "execution_count": null,
   "metadata": {},
   "outputs": [],
   "source": []
  }
 ],
 "metadata": {
  "kernelspec": {
   "display_name": "Python 3",
   "language": "python",
   "name": "python3"
  },
  "language_info": {
   "codemirror_mode": {
    "name": "ipython",
    "version": 3
   },
   "file_extension": ".py",
   "mimetype": "text/x-python",
   "name": "python",
   "nbconvert_exporter": "python",
   "pygments_lexer": "ipython3",
   "version": "3.7.4"
  }
 },
 "nbformat": 4,
 "nbformat_minor": 2
}
