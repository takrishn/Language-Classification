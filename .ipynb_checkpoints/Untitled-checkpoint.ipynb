{
 "cells": [
  {
   "cell_type": "code",
   "execution_count": 9,
   "metadata": {},
   "outputs": [],
   "source": [
    "import os\n",
    "import json\n",
    "import nltk\n",
    "import sklearn\n",
    "import numpy as np\n",
    "import pandas as pd\n",
    "import matplotlib.pyplot as plt\n",
    "\n",
    "from io import StringIO\n",
    "from collections import defaultdict\n",
    "\n",
    "from nltk import word_tokenize\n",
    "from nltk.probability import FreqDist\n",
    "\n",
    "from sklearn import linear_model \n",
    "from sklearn import metrics \n",
    "from sklearn.feature_extraction.text import TfidfVectorizer\n",
    "from sklearn.feature_selection import chi2\n",
    "from sklearn.feature_extraction.text import * \n",
    "from sklearn.model_selection import train_test_split\n",
    "from sklearn.feature_extraction.text import CountVectorizer\n",
    "from sklearn.feature_extraction.text import TfidfTransformer\n",
    "from sklearn.naive_bayes import MultinomialNB"
   ]
  },
  {
   "cell_type": "code",
   "execution_count": 18,
   "metadata": {},
   "outputs": [
    {
     "name": "stdout",
     "output_type": "stream",
     "text": [
      "   Word Language\n",
      "0   one  English\n",
      "1   hot  English\n",
      "2  word  English\n",
      "3  time  English\n",
      "4  said  English\n",
      "   Word Language  category_id\n",
      "0   one  English            0\n",
      "1   hot  English            1\n",
      "2  word  English            2\n",
      "3  time  English            3\n",
      "4  said  English            4\n",
      "         Word  category_id\n",
      "0         one            0\n",
      "1         hot            1\n",
      "2        word            2\n",
      "3        time            3\n",
      "4        said            4\n",
      "...       ...          ...\n",
      "5565    yuldā         5044\n",
      "5566    yulmā         5045\n",
      "5567    yulmē         5046\n",
      "5568   yūnekē         5047\n",
      "5569  yuyuñal         5048\n",
      "\n",
      "[5049 rows x 2 columns]\n"
     ]
    }
   ],
   "source": [
    "def parseData(data_file: str) -> pd.DataFrame:\n",
    "    \"\"\"parses csv (data_file) and returns dataset as pandas.DataFrame\"\"\"\n",
    "    \n",
    "    df = pd.read_csv(data_file)\n",
    "    print(df.head())\n",
    "    \n",
    "    # add a column encoding the language as an integer (i.e. English=0, Spanish=1, etc.)\n",
    "    col = ['Word', 'Language']\n",
    "    df = df[col]\n",
    "    df.columns = ['Word', 'Language']\n",
    "    df['category_id'] = df['Language'].factorize()[0]\n",
    "    print(df.head())\n",
    "    \n",
    "    category_id_df = df[['Word', 'category_id']].drop_duplicates().sort_values('category_id')\n",
    "    category_to_id = dict(category_id_df.values)\n",
    "    print(category_id_df)\n",
    "    \n",
    "\n",
    "# \tcol = ['Word', 'Language']\n",
    "# \tdf = df[col]\n",
    "# \tdf.columns = ['Word', 'Language']\n",
    "# \tdf['category_id'] = df['Word'].factorize()[0]\n",
    "\n",
    "# \tcategory_id_df = df[['Word', 'category_id']].drop_duplicates().sort_values('category_id')\n",
    "# \tcategory_to_id = dict(category_id_df.values)\n",
    "# \tdf.head()\n",
    "\n",
    "parseData('language_dataset.csv')"
   ]
  },
  {
   "cell_type": "code",
   "execution_count": null,
   "metadata": {},
   "outputs": [],
   "source": []
  }
 ],
 "metadata": {
  "kernelspec": {
   "display_name": "Python 3",
   "language": "python",
   "name": "python3"
  },
  "language_info": {
   "codemirror_mode": {
    "name": "ipython",
    "version": 3
   },
   "file_extension": ".py",
   "mimetype": "text/x-python",
   "name": "python",
   "nbconvert_exporter": "python",
   "pygments_lexer": "ipython3",
   "version": "3.7.4"
  }
 },
 "nbformat": 4,
 "nbformat_minor": 2
}
