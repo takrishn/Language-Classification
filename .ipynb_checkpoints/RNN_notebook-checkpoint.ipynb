{
 "cells": [
  {
   "cell_type": "code",
   "execution_count": 1,
   "metadata": {},
   "outputs": [],
   "source": [
    "from __future__ import unicode_literals, print_function, division\n",
    "\n",
    "import glob\n",
    "import os\n",
    "import random\n",
    "import time\n",
    "import math\n",
    "import torch\n",
    "import torchvision\n",
    "import unicodedata\n",
    "import string\n",
    "\n",
    "import pandas as pd\n",
    "import torch.nn as nn\n",
    "import torchvision.transforms as transforms\n",
    "\n",
    "from io import open\n",
    "from matplotlib import pyplot as plt\n",
    "from collections import defaultdict\n",
    "from sklearn.model_selection import train_test_split"
   ]
  },
  {
   "cell_type": "markdown",
   "metadata": {},
   "source": [
    "# Set Up"
   ]
  },
  {
   "cell_type": "code",
   "execution_count": 2,
   "metadata": {},
   "outputs": [],
   "source": [
    "# Build the language_words dictionary, a list of words per language\n",
    "def parseCSV(file):\n",
    "    \"\"\"returns pandas dataframe from CSV file\"\"\"\n",
    "    data = pd.read_csv(file)\n",
    "    return data\n",
    "\n",
    "def reformatData(data):\n",
    "    \"\"\"takes in pandas dataframe and outputs data in right format\"\"\"\n",
    "    language_words = defaultdict(list) \n",
    "    data = data.to_dict('split')['data']\n",
    "    \n",
    "    for entry in data:\n",
    "        language_words[entry[1]].append(entry[0])\n",
    "        \n",
    "    return dict(language_words)"
   ]
  },
  {
   "cell_type": "markdown",
   "metadata": {},
   "source": [
    "Parse our language dataset and populate four variables we will be using later:\n",
    "\n",
    "training_words = `{'Simlish': ['Dag Dag', 'Zagadoo', ...], 'English': ['event', ...], ...}`\n",
    "\n",
    "test_words = same format at training_words\n",
    "\n",
    "all_languages = `['English', 'Spanish', 'Tolkien Elvish', ...]`\n",
    "\n",
    "n_languages = 7"
   ]
  },
  {
   "cell_type": "code",
   "execution_count": 3,
   "metadata": {},
   "outputs": [
    {
     "name": "stdout",
     "output_type": "stream",
     "text": [
      "n_letters: 113\n",
      "all_letters: [' ', \"'\", '(', ')', ',', '-', '.', '/', ';', '?', 'A', 'B', 'C', 'D', 'E', 'F', 'G', 'H', 'I', 'J', 'K', 'L', 'M', 'N', 'O', 'P', 'Q', 'R', 'S', 'T', 'U', 'V', 'W', 'X', 'Y', 'Z', 'a', 'b', 'c', 'd', 'e', 'f', 'g', 'h', 'i', 'j', 'k', 'l', 'm', 'n', 'o', 'p', 'q', 'r', 's', 't', 'u', 'v', 'w', 'x', 'y', 'z', '²', '¹', 'Ä', 'Ö', 'Ü', 'ß', 'à', 'á', 'â', 'ä', 'ç', 'è', 'é', 'ê', 'ë', 'ì', 'í', 'î', 'ï', 'ñ', 'ò', 'ó', 'ô', 'ö', 'ù', 'ú', 'û', 'ü', 'þ', 'ā', 'ă', 'ē', 'ĕ', 'ī', 'ĭ', 'ō', 'ŏ', 'œ', 'ū', 'ŭ', 'ƀ', 'ʒ', 'ˢ', '́', '̆', '̣', '̯', 'ṃ', 'ṇ', '’', '…']\n"
     ]
    }
   ],
   "source": [
    "# parse the data for characters we need to include\n",
    "csv_data = parseCSV('language_dataset_no_stopwords.csv')\n",
    "language_words = reformatData(csv_data)\n",
    "\n",
    "# populate all_letters with alphabet lower and upper \n",
    "# along with spaces and a few other punctuations\n",
    "all_letters = set()\n",
    "\n",
    "for letter in string.ascii_letters + \" .,;'\" + 'áéíóúüñàèìòùçâêîôûëïäöß()-āēīōū’ā̆ē̆ī̆ō̆ăĭḗū́u̯ṇ̃þʒ¹²/':\n",
    "    all_letters.add(letter)\n",
    "\n",
    "# we also need to include special characters found in certain languages\n",
    "# primarily Tolkien Elvish and Spanish\n",
    "for lang in language_words.keys():\n",
    "    for word in language_words[lang]:\n",
    "        for letter in word:\n",
    "            all_letters.add(letter)      \n",
    "            \n",
    "n_letters = len(all_letters)\n",
    "all_letters = sorted(list(all_letters))\n",
    "print('n_letters:', n_letters)\n",
    "print('all_letters:', all_letters)"
   ]
  },
  {
   "cell_type": "code",
   "execution_count": 4,
   "metadata": {},
   "outputs": [],
   "source": [
    "# Turn names into tensors\n",
    "# Find letter index from all_letters, e.g. \"a\" = 0\n",
    "def letterToIndex(letter):\n",
    "    try:\n",
    "        if letter == '\\xa0':\n",
    "            letter = ' '\n",
    "        return all_letters.index(letter)\n",
    "    except:\n",
    "        return None\n",
    "\n",
    "# Just for demonstration, turn a letter into a <1 x n_letters> Tensor\n",
    "def letterToTensor(letter):\n",
    "    tensor = torch.zeros(1, n_letters)\n",
    "    tensor[0][letterToIndex(letter)] = 1\n",
    "    return tensor"
   ]
  },
  {
   "cell_type": "code",
   "execution_count": 5,
   "metadata": {},
   "outputs": [],
   "source": [
    "# Turn a line into a <line_length x 1 x n_letters> tensor\n",
    "def lineToTensor(line):\n",
    "    tensor = torch.zeros(len(line), 1, n_letters)\n",
    "    for li, letter in enumerate(line):\n",
    "        tensor[li][0][letterToIndex(letter)] = 1\n",
    "    return tensor\n",
    "\n",
    "def categoryFromOutput(output):\n",
    "    top_n, top_i = output.topk(1)\n",
    "    language_i = top_i[0].item()\n",
    "    return all_languages[language_i], language_i"
   ]
  },
  {
   "cell_type": "code",
   "execution_count": 6,
   "metadata": {},
   "outputs": [],
   "source": [
    "def randomChoice(l):\n",
    "    return l[random.randint(0, len(l) - 1)]\n",
    "\n",
    "def randomTrainingExample():\n",
    "    category = randomChoice(all_languages) # choose a random language\n",
    "    line = randomChoice(training_words[category]) # choose a random word from that language\n",
    "    # turn the language into a 1D tensor\n",
    "    category_tensor = torch.tensor([all_languages.index(category)], dtype=torch.long)\n",
    "    # line_tensor is a 2D tensor containing a tensor for each letter\n",
    "    line_tensor = lineToTensor(line)\n",
    "    return category, line, category_tensor, line_tensor"
   ]
  },
  {
   "cell_type": "code",
   "execution_count": 7,
   "metadata": {},
   "outputs": [],
   "source": [
    "class RNN(nn.Module):\n",
    "    def __init__(self, input_size, hidden_size, output_size):\n",
    "        super(RNN, self).__init__()\n",
    "\n",
    "        # Put the declaration of RNN network here\n",
    "        self.hidden_size = hidden_size\n",
    "    \n",
    "        self.i2h = nn.Linear(input_size + hidden_size, hidden_size)\n",
    "        self.i2o = nn.Linear(input_size + hidden_size, output_size)\n",
    "        self.softmax = nn.LogSoftmax(dim=1)\n",
    "\n",
    "    def forward(self, input, hidden):\n",
    "        # Put the computation for forward pass here\n",
    "        combined = torch.cat((input, hidden), 1)\n",
    "        output = self.i2o(combined)\n",
    "        output = self.softmax(output)\n",
    "        hidden = self.i2h(combined)\n",
    "\n",
    "        return output, hidden\n",
    "\n",
    "    def initHidden(self):\n",
    "        return torch.zeros(1, self.hidden_size)"
   ]
  },
  {
   "cell_type": "code",
   "execution_count": 8,
   "metadata": {},
   "outputs": [],
   "source": [
    "def train_iteration_CharRNN(learning_rate, category_tensor, line_tensor):\n",
    "    criterion = nn.NLLLoss()\n",
    "    hidden = rnn.initHidden()\n",
    "    rnn.zero_grad()\n",
    "\n",
    "    # The forward process\n",
    "    for i in range(line_tensor.size()[0]):\n",
    "        output, hidden = rnn(line_tensor[i], hidden)\n",
    "\n",
    "    # The backward process\n",
    "    loss = criterion(output, category_tensor)\n",
    "    loss.backward()\n",
    "\n",
    "    # Add parameters' gradients to their values, multiplied by learning rate\n",
    "    for p in rnn.parameters():\n",
    "        p.data.add_(-learning_rate, p.grad.data)\n",
    "\n",
    "    return output, loss.item()\n"
   ]
  },
  {
   "cell_type": "code",
   "execution_count": 9,
   "metadata": {},
   "outputs": [],
   "source": [
    "def train_charRNN(n_iters, learning_rate, avg_loss_intervals):\n",
    "    print_every = n_iters / avg_loss_intervals\n",
    "    current_loss = 0\n",
    "    losses = []\n",
    "\n",
    "    def timeSince(since):\n",
    "        now = time.time()\n",
    "        s = now - since\n",
    "        m = math.floor(s / 60)\n",
    "        s -= m * 60\n",
    "        return '%dm %ds' % (m, s)\n",
    "\n",
    "    start = time.time()\n",
    "\n",
    "    for iter in range(1, n_iters + 1):\n",
    "        category, line, category_tensor, line_tensor = randomTrainingExample()\n",
    "        output, loss = train_iteration_CharRNN(learning_rate, category_tensor, line_tensor)\n",
    "        current_loss += loss\n",
    "\n",
    "        # Print iter number, loss, name and guess\n",
    "        if iter % print_every == 0:\n",
    "            guess, guess_i = categoryFromOutput(output)\n",
    "            correct = '✓' if guess == category else '✗ (%s)' % category\n",
    "            print('%d %d%% (%s) %.4f %s / %s %s' % (\n",
    "                iter, iter / n_iters * 100, timeSince(start), loss, line, guess, correct))\n",
    "            print('Average loss: %.4f' % (current_loss/print_every))\n",
    "            losses.append(current_loss/print_every)\n",
    "            current_loss = 0\n",
    "\n",
    "    torch.save(rnn, 'char-rnn-classification.pt')\n",
    "    return losses"
   ]
  },
  {
   "cell_type": "code",
   "execution_count": 10,
   "metadata": {},
   "outputs": [],
   "source": [
    "# Finish the prediction function to provide predictions for any \n",
    "# input string (name) from the user\n",
    "def predict(input_line, n_predictions=7):\n",
    "#     print(\"Prediction for %s:\" % input_line)\n",
    "    hidden = rnn.initHidden()\n",
    "\n",
    "    # Generate the input for RNN\n",
    "    line_tensor = lineToTensor(input_line)\n",
    "    for i in range(line_tensor.size()[0]):\n",
    "        output, hidden = rnn(line_tensor[i], hidden)\n",
    "\n",
    "    # Get the value and index of top K predictions from the output\n",
    "    # Then apply Softmax function on the scores of all category predictions so we can \n",
    "    # output the probabilities that this name belongs to different languages.\n",
    "    topv, topi = output.data.topk(n_predictions, 1, True)\n",
    "    softmax = nn.Softmax(dim=1)\n",
    "    top_prob = softmax(topv)\n",
    "    predictions = []\n",
    " \n",
    "    for i in range(3):\n",
    "        value = topv[0][i]\n",
    "        prob = top_prob[0][i] * 100\n",
    "        category_index = topi[0][i]\n",
    "#         print('%s Probability: (%.2f), Score: (%.2f)' % (all_languages[category_index], prob, value))\n",
    "        predictions.append([value, all_languages[category_index]])\n",
    "    return predictions"
   ]
  },
  {
   "cell_type": "markdown",
   "metadata": {},
   "source": [
    "# Training the Model"
   ]
  },
  {
   "cell_type": "code",
   "execution_count": 11,
   "metadata": {
    "scrolled": true
   },
   "outputs": [],
   "source": [
    "# Accuracies for training the model without stop words:\n",
    "# n_iters=10000, learning_rate=0.02\n",
    "# training data accuracy: 60.4129%\n",
    "# testing data accuracy: 57.0018%\n",
    "\n",
    "# n_iters=50000, learning_rate=0.005\n",
    "# training data accuracy: 64.0934%\n",
    "# testing data accuracy: 58.4381%\n",
    "\n",
    "# n_iters=50000, learning_rate=0.008\n",
    "# training data accuracy: 66.1580%\n",
    "# testing data accuracy: 64.1831%\n",
    "\n",
    "# n_iters=50000, learning_rate=0.01\n",
    "# training data accuracy: 64.6095%\n",
    "# testing data accuracy: 60.0539%\n",
    "\n",
    "# n_iters=70000, learning_rate=0.008\n",
    "# training data accuracy: 69.7711%\n",
    "# testing data accuracy: 62.9264%\n",
    "\n",
    "# n_iters=70000, learning_rate=0.005\n",
    "# training data accuracy: 69.5691%\n",
    "# testing data accuracy: 61.7594%\n",
    "\n",
    "# n_iters=40000, learning_rate=0.008\n",
    "# training data accuracy: 65.9785%\n",
    "# testing data accuracy: 57.5404%\n",
    "\n",
    "n_hidden = 128\n",
    "n_iters = 50000 # number of iterations\n",
    "learning_rate = 0.008\n",
    "avg_loss_intervals = 25 # this is just how many avg losses points to display on the graph"
   ]
  },
  {
   "cell_type": "markdown",
   "metadata": {},
   "source": [
    "## Stopwords Excluded"
   ]
  },
  {
   "cell_type": "code",
   "execution_count": 12,
   "metadata": {},
   "outputs": [
    {
     "name": "stdout",
     "output_type": "stream",
     "text": [
      "Number of Words per Language\n"
     ]
    },
    {
     "data": {
      "text/plain": [
       "Language\n",
       "English           898\n",
       "French            942\n",
       "German            884\n",
       "Italian           940\n",
       "Simlish           111\n",
       "Spanish           919\n",
       "Tolkien Elvish    876\n",
       "dtype: int64"
      ]
     },
     "execution_count": 12,
     "metadata": {},
     "output_type": "execute_result"
    }
   ],
   "source": [
    "csv_data = parseCSV('language_dataset.csv')\n",
    "train_data, test_data = train_test_split(csv_data, test_size=0.2)\n",
    "\n",
    "training_words = reformatData(train_data)\n",
    "testing_words = reformatData(test_data)\n",
    "\n",
    "all_languages = list(training_words.keys())\n",
    "n_languages = len(all_languages)\n",
    "\n",
    "print('Number of Words per Language')\n",
    "csv_data.groupby('Language').size()"
   ]
  },
  {
   "cell_type": "code",
   "execution_count": 13,
   "metadata": {},
   "outputs": [
    {
     "name": "stdout",
     "output_type": "stream",
     "text": [
      "2000 4% (0m 5s) 1.9803 Front / English ✗ (German)\n",
      "Average loss: 1.8523\n",
      "4000 8% (0m 9s) 1.6153 Arogaba / Spanish ✗ (Simlish)\n",
      "Average loss: 1.7119\n",
      "6000 12% (0m 13s) 1.7676 section / German ✗ (English)\n",
      "Average loss: 1.5871\n",
      "8000 16% (0m 18s) 1.2805 partita / Spanish ✗ (Italian)\n",
      "Average loss: 1.4630\n",
      "10000 20% (0m 22s) 1.3843 Brich / Simlish ✓\n",
      "Average loss: 1.3253\n",
      "12000 24% (0m 26s) 0.7136 Roo / Simlish ✓\n",
      "Average loss: 1.1948\n",
      "14000 28% (0m 31s) 1.3313 Schlaf / Simlish ✗ (German)\n",
      "Average loss: 1.1380\n",
      "16000 32% (0m 36s) 0.4196 cerchio / Italian ✓\n",
      "Average loss: 1.1558\n",
      "18000 36% (0m 40s) 0.0203 kuldā / Tolkien Elvish ✓\n",
      "Average loss: 1.1203\n",
      "20000 40% (0m 44s) 1.3051 ammat- / Tolkien Elvish ✓\n",
      "Average loss: 1.1837\n",
      "22000 44% (0m 49s) 0.4325 conseguido / Spanish ✓\n",
      "Average loss: 1.1404\n",
      "24000 48% (0m 53s) 0.8003 figura / Italian ✓\n",
      "Average loss: 1.0732\n",
      "26000 52% (0m 57s) 0.5282 mar / Spanish ✓\n",
      "Average loss: 1.1314\n",
      "28000 56% (1m 2s) 0.0013 Wut sa dib / Simlish ✓\n",
      "Average loss: 1.0193\n",
      "30000 60% (1m 6s) 1.1198 côte / French ✓\n",
      "Average loss: 0.9422\n",
      "32000 64% (1m 10s) 0.4271 pericolo / Italian ✓\n",
      "Average loss: 0.9076\n",
      "34000 68% (1m 14s) 2.2271 tut / French ✗ (German)\n",
      "Average loss: 0.9055\n",
      "36000 72% (1m 19s) 0.0068 -tā / Tolkien Elvish ✓\n",
      "Average loss: 0.8524\n",
      "38000 76% (1m 23s) 0.6177 sección / Spanish ✓\n",
      "Average loss: 0.9061\n",
      "40000 80% (1m 27s) 0.7924 manquer / French ✓\n",
      "Average loss: 0.9416\n",
      "42000 84% (1m 31s) 0.0542 sirya- / Tolkien Elvish ✓\n",
      "Average loss: 0.8982\n",
      "44000 88% (1m 36s) 0.3142 guardar / Spanish ✓\n",
      "Average loss: 0.8226\n",
      "46000 92% (1m 40s) 0.0532 srāwe / Tolkien Elvish ✓\n",
      "Average loss: 0.8062\n",
      "48000 96% (1m 44s) 1.2574 sedersi / Italian ✓\n",
      "Average loss: 0.8342\n",
      "50000 100% (1m 49s) 0.7402 lavage / French ✓\n",
      "Average loss: 0.8141\n"
     ]
    },
    {
     "name": "stderr",
     "output_type": "stream",
     "text": [
      "C:\\ProgramData\\Anaconda3\\lib\\site-packages\\torch\\serialization.py:360: UserWarning: Couldn't retrieve source code for container of type RNN. It won't be checked for correctness upon loading.\n",
      "  \"type \" + obj.__name__ + \". It won't be checked \"\n"
     ]
    }
   ],
   "source": [
    "rnn = RNN(n_letters, n_hidden, n_languages)\n",
    "losses = train_charRNN(n_iters, learning_rate, avg_loss_intervals)"
   ]
  },
  {
   "cell_type": "code",
   "execution_count": 14,
   "metadata": {},
   "outputs": [
    {
     "data": {
      "image/png": "[encoded data removed]",
      "text/plain": [
       "<Figure size 432x288 with 1 Axes>"
      ]
     },
     "metadata": {
      "needs_background": "light"
     },
     "output_type": "display_data"
    }
   ],
   "source": [
    "plt.plot(losses)\n",
    "plt.xlabel('Training Iteration * {}'.format(int(n_iters / avg_loss_intervals)))\n",
    "plt.ylabel('Average Loss per {} Iterations'.format(int(n_iters / avg_loss_intervals)))\n",
    "plt.title('Average Loss for RNN Model Stopwords Excluded')\n",
    "plt.show()"
   ]
  },
  {
   "cell_type": "code",
   "execution_count": 15,
   "metadata": {},
   "outputs": [],
   "source": [
    "def getAccuracy(dataset):\n",
    "    total_words = len(dataset.index)\n",
    "    correct_predictions = 0\n",
    "    for i in dataset.index:\n",
    "        word = dataset['Word'][i]\n",
    "        language = dataset['Language'][i]\n",
    "        prediction = predict(word)[0][1]\n",
    "        if prediction == language:\n",
    "            correct_predictions += 1\n",
    "    return correct_predictions / total_words"
   ]
  },
  {
   "cell_type": "code",
   "execution_count": 16,
   "metadata": {},
   "outputs": [
    {
     "name": "stdout",
     "output_type": "stream",
     "text": [
      "training data accuracy: 68.4695%\n",
      "testing data accuracy: 64.6320%\n"
     ]
    }
   ],
   "source": [
    "print('training data accuracy: {:.4f}%'.format(getAccuracy(train_data) * 100))\n",
    "print('testing data accuracy: {:.4f}%'.format(getAccuracy(test_data) * 100))"
   ]
  },
  {
   "cell_type": "markdown",
   "metadata": {},
   "source": [
    "## Stopwords Included"
   ]
  },
  {
   "cell_type": "code",
   "execution_count": 17,
   "metadata": {},
   "outputs": [
    {
     "name": "stdout",
     "output_type": "stream",
     "text": [
      "Number of Words per Language\n"
     ]
    },
    {
     "data": {
      "text/plain": [
       "Language\n",
       "English           1000\n",
       "French            1000\n",
       "German            1000\n",
       "Italian           1000\n",
       "Simlish            111\n",
       "Spanish           1000\n",
       "Tolkien Elvish     894\n",
       "dtype: int64"
      ]
     },
     "execution_count": 17,
     "metadata": {},
     "output_type": "execute_result"
    }
   ],
   "source": [
    "csv_data = parseCSV('language_dataset_no_stopwords.csv')\n",
    "train_data, test_data = train_test_split(csv_data, test_size=0.2)\n",
    "\n",
    "training_words = reformatData(train_data)\n",
    "testing_words = reformatData(test_data)\n",
    "\n",
    "all_languages = list(training_words.keys())\n",
    "n_languages = len(all_languages)\n",
    "\n",
    "print('Number of Words per Language')\n",
    "csv_data.groupby('Language').size()"
   ]
  },
  {
   "cell_type": "code",
   "execution_count": 18,
   "metadata": {},
   "outputs": [
    {
     "name": "stdout",
     "output_type": "stream",
     "text": [
      "2000 4% (0m 4s) 1.9605 macchina / Spanish ✗ (Italian)\n",
      "Average loss: 1.8723\n",
      "4000 8% (0m 8s) 1.0375 geboren / German ✓\n",
      "Average loss: 1.7397\n",
      "6000 12% (0m 12s) 1.6968 corps / Simlish ✗ (French)\n",
      "Average loss: 1.5977\n",
      "8000 16% (0m 16s) 1.1381 discutir / Spanish ✓\n",
      "Average loss: 1.4361\n",
      "10000 20% (0m 21s) 1.4547 créer / Simlish ✗ (French)\n",
      "Average loss: 1.2945\n",
      "12000 24% (0m 25s) 0.9664 look / English ✓\n",
      "Average loss: 1.3316\n",
      "14000 28% (0m 29s) 0.9839 push / English ✓\n",
      "Average loss: 1.1849\n",
      "16000 32% (0m 33s) 1.2687 made / English ✓\n",
      "Average loss: 1.1645\n",
      "18000 36% (0m 37s) 1.3885 we / Tolkien Elvish ✓\n",
      "Average loss: 1.0924\n",
      "20000 40% (0m 41s) 0.5866 Plum / Simlish ✓\n",
      "Average loss: 1.1126\n",
      "22000 44% (0m 45s) 0.4771 cantar / Spanish ✓\n",
      "Average loss: 1.0227\n",
      "24000 48% (0m 49s) 0.8732 événement / French ✓\n",
      "Average loss: 0.9788\n",
      "26000 52% (0m 53s) 1.2790 moi / French ✓\n",
      "Average loss: 1.0342\n",
      "28000 56% (0m 57s) 0.2821 Zagadoo / Simlish ✓\n",
      "Average loss: 0.9472\n",
      "30000 60% (1m 2s) 1.7092 ainsi / Italian ✗ (French)\n",
      "Average loss: 0.9291\n",
      "32000 64% (1m 6s) 0.0509 Yibbsy / Simlish ✓\n",
      "Average loss: 0.8939\n",
      "34000 68% (1m 10s) 0.3884 post / English ✓\n",
      "Average loss: 0.9039\n",
      "36000 72% (1m 14s) 0.2860 Kinder / German ✓\n",
      "Average loss: 0.9135\n",
      "38000 76% (1m 18s) 0.2756 Gronk / Simlish ✓\n",
      "Average loss: 0.8423\n",
      "40000 80% (1m 22s) 0.2166 Ka / Simlish ✓\n",
      "Average loss: 0.9310\n",
      "42000 84% (1m 26s) 1.4147 common / Spanish ✗ (English)\n",
      "Average loss: 0.9126\n",
      "44000 88% (1m 31s) 1.3761 hour / German ✗ (English)\n",
      "Average loss: 0.9031\n",
      "46000 92% (1m 35s) 0.7525 sonrisa / Spanish ✓\n",
      "Average loss: 0.9127\n",
      "48000 96% (1m 39s) 2.3932 sollte / English ✗ (German)\n",
      "Average loss: 0.8411\n",
      "50000 100% (1m 43s) 1.2910 œil / French ✓\n",
      "Average loss: 0.8389\n"
     ]
    }
   ],
   "source": [
    "rnn = RNN(n_letters, n_hidden, n_languages)\n",
    "losses = train_charRNN(n_iters, learning_rate, avg_loss_intervals)"
   ]
  },
  {
   "cell_type": "code",
   "execution_count": 19,
   "metadata": {},
   "outputs": [
    {
     "data": {
      "image/png": "[encoded data removed]",
      "text/plain": [
       "<Figure size 432x288 with 1 Axes>"
      ]
     },
     "metadata": {
      "needs_background": "light"
     },
     "output_type": "display_data"
    }
   ],
   "source": [
    "plt.plot(losses)\n",
    "plt.xlabel('Training Iteration * {}'.format(int(n_iters / avg_loss_intervals)))\n",
    "plt.ylabel('Average Loss per {} Iterations'.format(int(n_iters / avg_loss_intervals)))\n",
    "plt.title('Average Loss for RNN Model Stopwords Included')\n",
    "plt.show()"
   ]
  },
  {
   "cell_type": "code",
   "execution_count": 20,
   "metadata": {},
   "outputs": [
    {
     "name": "stdout",
     "output_type": "stream",
     "text": [
      "training data accuracy: 61.0117%\n",
      "testing data accuracy: 54.7877%\n"
     ]
    }
   ],
   "source": [
    "print('training data accuracy: {:.4f}%'.format(getAccuracy(train_data) * 100))\n",
    "print('testing data accuracy: {:.4f}%'.format(getAccuracy(test_data) * 100))"
   ]
  },
  {
   "cell_type": "markdown",
   "metadata": {},
   "source": [
    "## Only Words Greater than Two Characters Long Included"
   ]
  },
  {
   "cell_type": "code",
   "execution_count": 21,
   "metadata": {
    "scrolled": true
   },
   "outputs": [
    {
     "name": "stdout",
     "output_type": "stream",
     "text": [
      "Number of Words per Language\n"
     ]
    },
    {
     "data": {
      "text/plain": [
       "Language\n",
       "English           973\n",
       "French            970\n",
       "German            984\n",
       "Italian           968\n",
       "Simlish           100\n",
       "Spanish           970\n",
       "Tolkien Elvish    848\n",
       "dtype: int64"
      ]
     },
     "execution_count": 21,
     "metadata": {},
     "output_type": "execute_result"
    }
   ],
   "source": [
    "csv_data = parseCSV('language_dataset_no_stopwords.csv')\n",
    "filtered_data = csv_data[csv_data['Word'].apply(lambda x: len(x) > 2)]\n",
    "train_data, test_data = train_test_split(filtered_data, test_size=0.2)\n",
    "\n",
    "training_words = reformatData(train_data)\n",
    "testing_words = reformatData(test_data)\n",
    "\n",
    "all_languages = list(training_words.keys())\n",
    "n_languages = len(all_languages)\n",
    "\n",
    "print('Number of Words per Language')\n",
    "filtered_data.groupby('Language').size()"
   ]
  },
  {
   "cell_type": "code",
   "execution_count": 23,
   "metadata": {},
   "outputs": [
    {
     "name": "stdout",
     "output_type": "stream",
     "text": [
      "2000 4% (0m 4s) 2.0009 est venu / Tolkien Elvish ✗ (French)\n",
      "Average loss: 1.8638\n",
      "4000 8% (0m 8s) 1.5216 búsqueda / Tolkien Elvish ✗ (Spanish)\n",
      "Average loss: 1.7022\n",
      "6000 12% (0m 12s) 0.9324 pronto / Italian ✓\n",
      "Average loss: 1.5823\n",
      "8000 16% (0m 16s) 1.0573 decir / Spanish ✓\n",
      "Average loss: 1.4448\n",
      "10000 20% (0m 20s) 1.4626 rompió / French ✗ (Spanish)\n",
      "Average loss: 1.2795\n",
      "12000 24% (0m 25s) 0.6284 skū / Tolkien Elvish ✓\n",
      "Average loss: 1.2013\n",
      "14000 28% (0m 29s) 1.5542 pari / Simlish ✗ (Italian)\n",
      "Average loss: 1.1309\n",
      "16000 32% (0m 33s) 1.5747 poner / French ✗ (Spanish)\n",
      "Average loss: 1.0690\n",
      "18000 36% (0m 37s) 1.4200 vollständig / French ✗ (German)\n",
      "Average loss: 1.0192\n",
      "20000 40% (0m 41s) 0.5829 cerca / Spanish ✓\n",
      "Average loss: 1.1049\n",
      "22000 44% (0m 46s) 0.0080 yūnekē / Tolkien Elvish ✓\n",
      "Average loss: 1.1019\n",
      "24000 48% (0m 50s) 1.3214 nation / English ✗ (French)\n",
      "Average loss: 1.0386\n",
      "26000 52% (0m 55s) 1.0208 main / French ✓\n",
      "Average loss: 0.9712\n",
      "28000 56% (0m 59s) 0.3565 sagen / German ✓\n",
      "Average loss: 1.0736\n",
      "30000 60% (1m 4s) 0.6144 delgado / Spanish ✓\n",
      "Average loss: 0.9763\n",
      "32000 64% (1m 8s) 0.0261 wilden / German ✓\n",
      "Average loss: 0.9071\n",
      "34000 68% (1m 12s) 0.7587 chauve-souris / French ✓\n",
      "Average loss: 0.8729\n",
      "36000 72% (1m 16s) 2.2955 groß / English ✗ (German)\n",
      "Average loss: 0.8964\n",
      "38000 76% (1m 21s) 0.4271 indō / Tolkien Elvish ✓\n",
      "Average loss: 0.8452\n",
      "40000 80% (1m 25s) 1.1393 autre / Italian ✗ (French)\n",
      "Average loss: 0.7988\n",
      "42000 84% (1m 30s) 2.3258 que / French ✗ (Spanish)\n",
      "Average loss: 0.8030\n",
      "44000 88% (1m 34s) 0.3837 Lüge / German ✓\n",
      "Average loss: 0.8891\n",
      "46000 92% (1m 39s) 0.8905 wait / German ✗ (English)\n",
      "Average loss: 0.8229\n",
      "48000 96% (1m 43s) 0.6175 Bweb / Simlish ✓\n",
      "Average loss: 0.8791\n",
      "50000 100% (1m 47s) 0.0333 Hap / Simlish ✓\n",
      "Average loss: 0.8246\n"
     ]
    }
   ],
   "source": [
    "rnn = RNN(n_letters, n_hidden, n_languages)\n",
    "losses = train_charRNN(n_iters, learning_rate, avg_loss_intervals)"
   ]
  },
  {
   "cell_type": "code",
   "execution_count": 24,
   "metadata": {},
   "outputs": [
    {
     "data": {
      "image/png": "[encoded data removed]",
      "text/plain": [
       "<Figure size 432x288 with 1 Axes>"
      ]
     },
     "metadata": {
      "needs_background": "light"
     },
     "output_type": "display_data"
    }
   ],
   "source": [
    "plt.plot(losses)\n",
    "plt.xlabel('Training Iteration * {}'.format(int(n_iters / avg_loss_intervals)))\n",
    "plt.ylabel('Average Loss per {} Iterations'.format(int(n_iters / avg_loss_intervals)))\n",
    "plt.title('Average Loss for RNN Model Only Words Greater than 2 Char Long')\n",
    "plt.show()"
   ]
  },
  {
   "cell_type": "code",
   "execution_count": 25,
   "metadata": {},
   "outputs": [
    {
     "name": "stdout",
     "output_type": "stream",
     "text": [
      "training data accuracy: 66.0645%\n",
      "testing data accuracy: 58.9854%\n"
     ]
    }
   ],
   "source": [
    "print('training data accuracy: {:.4f}%'.format(getAccuracy(train_data) * 100))\n",
    "print('testing data accuracy: {:.4f}%'.format(getAccuracy(test_data) * 100))"
   ]
  },
  {
   "cell_type": "markdown",
   "metadata": {},
   "source": [
    "## Only Words Greater than Three Characters Long Included"
   ]
  },
  {
   "cell_type": "code",
   "execution_count": 26,
   "metadata": {},
   "outputs": [
    {
     "name": "stdout",
     "output_type": "stream",
     "text": [
      "Number of Words per Language\n"
     ]
    },
    {
     "data": {
      "text/plain": [
       "Language\n",
       "English           848\n",
       "French            882\n",
       "German            905\n",
       "Italian           925\n",
       "Simlish            83\n",
       "Spanish           918\n",
       "Tolkien Elvish    773\n",
       "dtype: int64"
      ]
     },
     "execution_count": 26,
     "metadata": {},
     "output_type": "execute_result"
    }
   ],
   "source": [
    "csv_data = parseCSV('language_dataset_no_stopwords.csv')\n",
    "filtered_data = csv_data[csv_data['Word'].apply(lambda x: len(x) > 3)]\n",
    "train_data, test_data = train_test_split(filtered_data, test_size=0.2)\n",
    "\n",
    "training_words = reformatData(train_data)\n",
    "testing_words = reformatData(test_data)\n",
    "\n",
    "all_languages = list(training_words.keys())\n",
    "n_languages = len(all_languages)\n",
    "\n",
    "print('Number of Words per Language')\n",
    "filtered_data.groupby('Language').size()"
   ]
  },
  {
   "cell_type": "code",
   "execution_count": 27,
   "metadata": {},
   "outputs": [
    {
     "name": "stdout",
     "output_type": "stream",
     "text": [
      "2000 4% (0m 4s) 1.7599 fraction / German ✗ (English)\n",
      "Average loss: 1.8464\n",
      "4000 8% (0m 9s) 1.5134 croître / Italian ✗ (French)\n",
      "Average loss: 1.6760\n",
      "6000 12% (0m 13s) 1.7072 Gutta / Spanish ✗ (Simlish)\n",
      "Average loss: 1.5369\n",
      "8000 16% (0m 18s) 1.4287 Docturg / Simlish ✓\n",
      "Average loss: 1.4073\n",
      "10000 20% (0m 22s) 0.8166 vache / French ✓\n",
      "Average loss: 1.2518\n",
      "12000 24% (0m 27s) 0.7635 pierre / French ✓\n",
      "Average loss: 1.1346\n",
      "14000 28% (0m 32s) 0.6883 Nooboo / Simlish ✓\n",
      "Average loss: 1.1376\n",
      "16000 32% (0m 37s) 0.7957 todavía / Spanish ✓\n",
      "Average loss: 1.0099\n",
      "18000 36% (0m 41s) 0.7596 ñgawar / Tolkien Elvish ✓\n",
      "Average loss: 0.9767\n",
      "20000 40% (0m 46s) 0.6779 Woven / Simlish ✓\n",
      "Average loss: 1.0011\n",
      "22000 44% (0m 51s) 1.2445 ever / English ✓\n",
      "Average loss: 0.9464\n",
      "24000 48% (0m 55s) 0.3748 Bweb / Simlish ✓\n",
      "Average loss: 0.9363\n",
      "26000 52% (1m 0s) 0.0008 Wut sa dib / Simlish ✓\n",
      "Average loss: 0.8696\n",
      "28000 56% (1m 4s) 0.4720 Ongie / Simlish ✓\n",
      "Average loss: 0.8420\n",
      "30000 60% (1m 9s) 2.7332 diez / German ✗ (Spanish)\n",
      "Average loss: 0.8319\n",
      "32000 64% (1m 14s) 1.6927 hermano / Italian ✗ (Spanish)\n",
      "Average loss: 0.8515\n",
      "34000 68% (1m 19s) 1.3206 large / French ✗ (English)\n",
      "Average loss: 0.7991\n",
      "36000 72% (1m 23s) 0.1006 Ongie / Simlish ✓\n",
      "Average loss: 0.8643\n",
      "38000 76% (1m 28s) 1.6381 panda / Spanish ✗ (Tolkien Elvish)\n",
      "Average loss: 0.8326\n",
      "40000 80% (1m 32s) 0.1836 tool / English ✓\n",
      "Average loss: 0.8717\n",
      "42000 84% (1m 37s) 0.8382 course / English ✓\n",
      "Average loss: 0.8621\n",
      "44000 88% (1m 42s) 0.1020 energía / Spanish ✓\n",
      "Average loss: 0.7642\n",
      "46000 92% (1m 47s) 1.1842 considerare / French ✗ (Italian)\n",
      "Average loss: 0.7798\n",
      "48000 96% (1m 51s) 0.2596 Fuens / Simlish ✓\n",
      "Average loss: 0.8005\n",
      "50000 100% (1m 56s) 0.3366 considerar / Spanish ✓\n",
      "Average loss: 0.8019\n"
     ]
    }
   ],
   "source": [
    "rnn = RNN(n_letters, n_hidden, n_languages)\n",
    "losses = train_charRNN(n_iters, learning_rate, avg_loss_intervals)"
   ]
  },
  {
   "cell_type": "code",
   "execution_count": 28,
   "metadata": {},
   "outputs": [
    {
     "data": {
      "image/png": "[encoded data removed]",
      "text/plain": [
       "<Figure size 432x288 with 1 Axes>"
      ]
     },
     "metadata": {
      "needs_background": "light"
     },
     "output_type": "display_data"
    }
   ],
   "source": [
    "plt.plot(losses)\n",
    "plt.xlabel('Training Iteration * {}'.format(int(n_iters / avg_loss_intervals)))\n",
    "plt.ylabel('Average Loss per {} Iterations'.format(int(n_iters / avg_loss_intervals)))\n",
    "plt.title('Average Loss for RNN Model Only Words Greater than 3 Char Long')\n",
    "plt.show()"
   ]
  },
  {
   "cell_type": "code",
   "execution_count": 29,
   "metadata": {},
   "outputs": [
    {
     "name": "stdout",
     "output_type": "stream",
     "text": [
      "training data accuracy: 69.2290%\n",
      "testing data accuracy: 65.3233%\n"
     ]
    }
   ],
   "source": [
    "print('training data accuracy: {:.4f}%'.format(getAccuracy(train_data) * 100))\n",
    "print('testing data accuracy: {:.4f}%'.format(getAccuracy(test_data) * 100))"
   ]
  }
 ],
 "metadata": {
  "kernelspec": {
   "display_name": "Python 3",
   "language": "python",
   "name": "python3"
  },
  "language_info": {
   "codemirror_mode": {
    "name": "ipython",
    "version": 3
   },
   "file_extension": ".py",
   "mimetype": "text/x-python",
   "name": "python",
   "nbconvert_exporter": "python",
   "pygments_lexer": "ipython3",
   "version": "3.7.4"
  }
 },
 "nbformat": 4,
 "nbformat_minor": 2
}
