{
 "cells": [
  {
   "cell_type": "code",
   "execution_count": 1,
   "metadata": {},
   "outputs": [],
   "source": [
    "from __future__ import unicode_literals, print_function, division\n",
    "\n",
    "import glob\n",
    "import os\n",
    "import random\n",
    "import time\n",
    "import math\n",
    "import torch\n",
    "import torchvision\n",
    "import unicodedata\n",
    "import string\n",
    "\n",
    "import pandas as pd\n",
    "import torch.nn as nn\n",
    "import torchvision.transforms as transforms\n",
    "\n",
    "from io import open\n",
    "from matplotlib import pyplot as plt\n",
    "from collections import defaultdict\n",
    "from sklearn.model_selection import train_test_split"
   ]
  },
  {
   "cell_type": "markdown",
   "metadata": {},
   "source": [
    "# Set Up"
   ]
  },
  {
   "cell_type": "code",
   "execution_count": 2,
   "metadata": {},
   "outputs": [],
   "source": [
    "# Build the language_words dictionary, a list of words per language\n",
    "def parseCSV(file):\n",
    "    \"\"\"returns pandas dataframe from CSV file\"\"\"\n",
    "    data = pd.read_csv(file)\n",
    "    return data\n",
    "\n",
    "def reformatData(data):\n",
    "    \"\"\"takes in pandas dataframe and outputs data in right format\"\"\"\n",
    "    language_words = defaultdict(list) \n",
    "    data = data.to_dict('split')['data']\n",
    "    \n",
    "    for entry in data:\n",
    "        language_words[entry[1]].append(entry[0])\n",
    "        \n",
    "    return dict(language_words)"
   ]
  },
  {
   "cell_type": "markdown",
   "metadata": {},
   "source": [
    "Parse our language dataset and populate four variables we will be using later:\n",
    "\n",
    "training_words = `{'Simlish': ['Dag Dag', 'Zagadoo', ...], 'English': ['event', ...], ...}`\n",
    "\n",
    "test_words = same format at training_words\n",
    "\n",
    "all_languages = `['English', 'Spanish', 'Tolkien Elvish', ...]`\n",
    "\n",
    "n_languages = 7"
   ]
  },
  {
   "cell_type": "code",
   "execution_count": 3,
   "metadata": {},
   "outputs": [
    {
     "name": "stdout",
     "output_type": "stream",
     "text": [
      "n_letters: 82\n",
      "all_letters: [' ', \"'\", '(', ')', ',', '-', '.', '/', ';', 'a', 'b', 'c', 'd', 'e', 'f', 'g', 'h', 'i', 'j', 'k', 'l', 'm', 'n', 'o', 'p', 'q', 'r', 's', 't', 'u', 'v', 'w', 'x', 'y', 'z', '²', '¹', 'ß', 'à', 'á', 'â', 'ä', 'ç', 'è', 'é', 'ê', 'ë', 'ì', 'í', 'î', 'ï', 'ñ', 'ò', 'ó', 'ô', 'ö', 'ù', 'ú', 'û', 'ü', 'þ', 'ā', 'ă', 'ē', 'ĕ', 'ī', 'ĭ', 'ō', 'ŏ', 'œ', 'ū', 'ƀ', 'ʒ', 'ˢ', '́', '̆', '̣', '̯', 'ṃ', 'ṇ', '’', '…']\n"
     ]
    }
   ],
   "source": [
    "# parse the data for characters we need to include\n",
    "csv_data = parseCSV('language_dataset.csv')\n",
    "csv_data[\"Word\"]= csv_data[\"Word\"].str.lower()\n",
    "language_words = reformatData(csv_data)\n",
    "\n",
    "# populate all_letters with alphabet lower and upper \n",
    "# along with spaces and a few other punctuations\n",
    "all_letters = set()\n",
    "\n",
    "for letter in 'abcdefghijklmnopqrstuvwxyz' + \" .,;'\" + 'áéíóúüñàèìòùçâêîôûëïäöß()-āēīōū’ā̆ē̆ī̆ō̆ăĭḗū́u̯ṇ̃þʒ¹²/':\n",
    "    all_letters.add(letter)\n",
    "\n",
    "# we also need to include special characters found in certain languages\n",
    "# primarily Tolkien Elvish and Spanish\n",
    "for lang in language_words.keys():\n",
    "    for word in language_words[lang]:\n",
    "        for letter in word:\n",
    "            all_letters.add(letter)      \n",
    "            \n",
    "n_letters = len(all_letters)\n",
    "all_letters = sorted(list(all_letters))\n",
    "print('n_letters:', n_letters)\n",
    "print('all_letters:', all_letters)"
   ]
  },
  {
   "cell_type": "code",
   "execution_count": 4,
   "metadata": {},
   "outputs": [],
   "source": [
    "# Turn names into tensors\n",
    "# Find letter index from all_letters, e.g. \"a\" = 0\n",
    "def letterToIndex(letter):\n",
    "    try:\n",
    "        if letter == '\\xa0':\n",
    "            letter = ' '\n",
    "        return all_letters.index(letter)\n",
    "    except:\n",
    "        return None\n",
    "\n",
    "# Just for demonstration, turn a letter into a <1 x n_letters> Tensor\n",
    "def letterToTensor(letter):\n",
    "    tensor = torch.zeros(1, n_letters)\n",
    "    tensor[0][letterToIndex(letter)] = 1\n",
    "    return tensor"
   ]
  },
  {
   "cell_type": "code",
   "execution_count": 5,
   "metadata": {},
   "outputs": [],
   "source": [
    "# Turn a line into a <line_length x 1 x n_letters> tensor\n",
    "def lineToTensor(line):\n",
    "    tensor = torch.zeros(len(line), 1, n_letters)\n",
    "    for li, letter in enumerate(line):\n",
    "        tensor[li][0][letterToIndex(letter)] = 1\n",
    "    return tensor\n",
    "\n",
    "def categoryFromOutput(output):\n",
    "    top_n, top_i = output.topk(1)\n",
    "    language_i = top_i[0].item()\n",
    "    return all_languages[language_i], language_i"
   ]
  },
  {
   "cell_type": "code",
   "execution_count": 6,
   "metadata": {},
   "outputs": [],
   "source": [
    "def randomChoice(l):\n",
    "    return l[random.randint(0, len(l) - 1)]\n",
    "\n",
    "def randomTrainingExample():\n",
    "    category = randomChoice(all_languages) # choose a random language\n",
    "    line = randomChoice(training_words[category]) # choose a random word from that language\n",
    "    # turn the language into a 1D tensor\n",
    "    category_tensor = torch.tensor([all_languages.index(category)], dtype=torch.long)\n",
    "    # line_tensor is a 2D tensor containing a tensor for each letter\n",
    "    line_tensor = lineToTensor(line)\n",
    "    return category, line, category_tensor, line_tensor"
   ]
  },
  {
   "cell_type": "code",
   "execution_count": 7,
   "metadata": {},
   "outputs": [],
   "source": [
    "class RNN(nn.Module):\n",
    "    def __init__(self, input_size, hidden_size, output_size):\n",
    "        super(RNN, self).__init__()\n",
    "\n",
    "        # Put the declaration of RNN network here\n",
    "        self.hidden_size = hidden_size\n",
    "    \n",
    "        self.i2h = nn.Linear(input_size + hidden_size, hidden_size)\n",
    "        self.i2o = nn.Linear(input_size + hidden_size, output_size)\n",
    "        self.softmax = nn.LogSoftmax(dim=1)\n",
    "\n",
    "    def forward(self, input, hidden):\n",
    "        # Put the computation for forward pass here\n",
    "        combined = torch.cat((input, hidden), 1)\n",
    "        output = self.i2o(combined)\n",
    "        output = self.softmax(output)\n",
    "        hidden = self.i2h(combined)\n",
    "\n",
    "        return output, hidden\n",
    "\n",
    "    def initHidden(self):\n",
    "        return torch.zeros(1, self.hidden_size)"
   ]
  },
  {
   "cell_type": "code",
   "execution_count": 8,
   "metadata": {},
   "outputs": [],
   "source": [
    "def train_iteration_CharRNN(learning_rate, category_tensor, line_tensor):\n",
    "    criterion = nn.NLLLoss()\n",
    "    hidden = rnn.initHidden()\n",
    "    rnn.zero_grad()\n",
    "\n",
    "    # The forward process\n",
    "    for i in range(line_tensor.size()[0]):\n",
    "        output, hidden = rnn(line_tensor[i], hidden)\n",
    "\n",
    "    # The backward process\n",
    "    loss = criterion(output, category_tensor)\n",
    "    loss.backward()\n",
    "\n",
    "    # Add parameters' gradients to their values, multiplied by learning rate\n",
    "    for p in rnn.parameters():\n",
    "        p.data.add_(-learning_rate, p.grad.data)\n",
    "\n",
    "    return output, loss.item()\n"
   ]
  },
  {
   "cell_type": "code",
   "execution_count": 9,
   "metadata": {},
   "outputs": [],
   "source": [
    "def train_charRNN(n_iters, learning_rate, avg_loss_intervals):\n",
    "    print_every = n_iters / avg_loss_intervals\n",
    "    current_loss = 0\n",
    "    losses = []\n",
    "\n",
    "    def timeSince(since):\n",
    "        now = time.time()\n",
    "        s = now - since\n",
    "        m = math.floor(s / 60)\n",
    "        s -= m * 60\n",
    "        return '%dm %ds' % (m, s)\n",
    "\n",
    "    start = time.time()\n",
    "\n",
    "    for iter in range(1, n_iters + 1):\n",
    "        category, line, category_tensor, line_tensor = randomTrainingExample()\n",
    "        output, loss = train_iteration_CharRNN(learning_rate, category_tensor, line_tensor)\n",
    "        current_loss += loss\n",
    "\n",
    "        # Print iter number, loss, name and guess\n",
    "        if iter % print_every == 0:\n",
    "            guess, guess_i = categoryFromOutput(output)\n",
    "            correct = '✓' if guess == category else '✗ (%s)' % category\n",
    "            print('%d %d%% (%s) %.4f %s / %s %s' % (\n",
    "                iter, iter / n_iters * 100, timeSince(start), loss, line, guess, correct))\n",
    "            print('Average loss: %.4f' % (current_loss/print_every))\n",
    "            losses.append(current_loss/print_every)\n",
    "            current_loss = 0\n",
    "\n",
    "    torch.save(rnn, 'char-rnn-classification.pt')\n",
    "    return losses"
   ]
  },
  {
   "cell_type": "code",
   "execution_count": 10,
   "metadata": {},
   "outputs": [],
   "source": [
    "# Finish the prediction function to provide predictions for any \n",
    "# input string (name) from the user\n",
    "def predict(input_line, n_predictions=7):\n",
    "#     print(\"Prediction for %s:\" % input_line)\n",
    "    hidden = rnn.initHidden()\n",
    "\n",
    "    # Generate the input for RNN\n",
    "    line_tensor = lineToTensor(input_line)\n",
    "    for i in range(line_tensor.size()[0]):\n",
    "        output, hidden = rnn(line_tensor[i], hidden)\n",
    "\n",
    "    # Get the value and index of top K predictions from the output\n",
    "    # Then apply Softmax function on the scores of all category predictions so we can \n",
    "    # output the probabilities that this name belongs to different languages.\n",
    "    topv, topi = output.data.topk(n_predictions, 1, True)\n",
    "    softmax = nn.Softmax(dim=1)\n",
    "    top_prob = softmax(topv)\n",
    "    predictions = []\n",
    " \n",
    "    for i in range(3):\n",
    "        value = topv[0][i]\n",
    "        prob = top_prob[0][i] * 100\n",
    "        category_index = topi[0][i]\n",
    "#         print('%s Probability: (%.2f), Score: (%.2f)' % (all_languages[category_index], prob, value))\n",
    "        predictions.append([value, all_languages[category_index]])\n",
    "    return predictions"
   ]
  },
  {
   "cell_type": "markdown",
   "metadata": {},
   "source": [
    "# Training the Model"
   ]
  },
  {
   "cell_type": "code",
   "execution_count": 11,
   "metadata": {
    "scrolled": true
   },
   "outputs": [],
   "source": [
    "# Accuracies for training the model without stop words:\n",
    "# n_iters=10000, learning_rate=0.02\n",
    "# training data accuracy: 60.4129%\n",
    "# testing data accuracy: 57.0018%\n",
    "\n",
    "# n_iters=50000, learning_rate=0.005\n",
    "# training data accuracy: 64.0934%\n",
    "# testing data accuracy: 58.4381%\n",
    "\n",
    "# n_iters=50000, learning_rate=0.008\n",
    "# training data accuracy: 66.1580%\n",
    "# testing data accuracy: 64.1831%\n",
    "\n",
    "# n_iters=50000, learning_rate=0.01\n",
    "# training data accuracy: 64.6095%\n",
    "# testing data accuracy: 60.0539%\n",
    "\n",
    "# n_iters=70000, learning_rate=0.008\n",
    "# training data accuracy: 69.7711%\n",
    "# testing data accuracy: 62.9264%\n",
    "\n",
    "# n_iters=70000, learning_rate=0.005\n",
    "# training data accuracy: 69.5691%\n",
    "# testing data accuracy: 61.7594%\n",
    "\n",
    "# n_iters=40000, learning_rate=0.008\n",
    "# training data accuracy: 65.9785%\n",
    "# testing data accuracy: 57.5404%\n",
    "\n",
    "n_hidden = 128\n",
    "n_iters = 50000 # number of iterations\n",
    "learning_rate = 0.008\n",
    "avg_loss_intervals = 25 # this is just how many avg losses points to display on the graph"
   ]
  },
  {
   "cell_type": "markdown",
   "metadata": {},
   "source": [
    "## Stopwords Excluded"
   ]
  },
  {
   "cell_type": "code",
   "execution_count": 12,
   "metadata": {},
   "outputs": [
    {
     "name": "stdout",
     "output_type": "stream",
     "text": [
      "Number of Words per Language\n"
     ]
    },
    {
     "data": {
      "text/plain": [
       "Language\n",
       "English           898\n",
       "French            942\n",
       "German            884\n",
       "Italian           940\n",
       "Simlish           111\n",
       "Spanish           919\n",
       "Tolkien Elvish    876\n",
       "dtype: int64"
      ]
     },
     "execution_count": 12,
     "metadata": {},
     "output_type": "execute_result"
    }
   ],
   "source": [
    "csv_data = parseCSV('language_dataset.csv')\n",
    "csv_data[\"Word\"]= csv_data[\"Word\"].str.lower() \n",
    "\n",
    "train_data, test_data = train_test_split(csv_data, test_size=0.2)\n",
    "\n",
    "training_words = reformatData(train_data)\n",
    "testing_words = reformatData(test_data)\n",
    "\n",
    "all_languages = list(training_words.keys())\n",
    "n_languages = len(all_languages)\n",
    "\n",
    "print('Number of Words per Language')\n",
    "csv_data.groupby('Language').size()"
   ]
  },
  {
   "cell_type": "code",
   "execution_count": 13,
   "metadata": {},
   "outputs": [
    {
     "name": "stdout",
     "output_type": "stream",
     "text": [
      "2000 4% (0m 9s) 1.8116 lutte / Italian ✗ (French)\n",
      "Average loss: 1.8628\n",
      "4000 8% (0m 19s) 1.9626 besoin / German ✗ (French)\n",
      "Average loss: 1.7102\n",
      "6000 12% (0m 29s) 1.6272 five / French ✗ (English)\n",
      "Average loss: 1.5624\n",
      "8000 16% (0m 37s) 1.5083 grito / Italian ✗ (Spanish)\n",
      "Average loss: 1.4018\n",
      "10000 20% (0m 46s) 1.4883 mouvement / English ✗ (French)\n",
      "Average loss: 1.3012\n",
      "12000 24% (0m 55s) 0.4081 fatto / Italian ✓\n",
      "Average loss: 1.2483\n",
      "14000 28% (1m 5s) 2.1168 tard / English ✗ (French)\n",
      "Average loss: 1.2100\n",
      "16000 32% (1m 14s) 0.3150 arthā / Tolkien Elvish ✓\n",
      "Average loss: 1.1553\n",
      "18000 36% (1m 23s) 0.2782 nooboo / Simlish ✓\n",
      "Average loss: 1.1032\n",
      "20000 40% (1m 33s) 0.4292 fast / English ✓\n",
      "Average loss: 1.1114\n",
      "22000 44% (1m 43s) 0.5378 exact / English ✓\n",
      "Average loss: 1.0971\n",
      "24000 48% (1m 53s) 2.1072 bild / English ✗ (German)\n",
      "Average loss: 1.0993\n",
      "26000 52% (2m 3s) 0.8942 heb / Simlish ✓\n",
      "Average loss: 1.0689\n",
      "28000 56% (2m 13s) 0.0237 wanjā / Tolkien Elvish ✓\n",
      "Average loss: 1.0441\n",
      "30000 60% (2m 22s) 1.9478 primavera / Italian ✗ (Spanish)\n",
      "Average loss: 1.0518\n",
      "32000 64% (2m 31s) 3.1301 continent… / Spanish ✗ (French)\n",
      "Average loss: 1.0415\n",
      "34000 68% (2m 40s) 0.9300 lass / Simlish ✓\n",
      "Average loss: 1.0065\n",
      "36000 72% (2m 49s) 1.7919 me / French ✗ (Italian)\n",
      "Average loss: 0.9885\n",
      "38000 76% (2m 57s) 0.0028 -ayā / Tolkien Elvish ✓\n",
      "Average loss: 1.0369\n",
      "40000 80% (3m 6s) 0.9476 peupler / French ✓\n",
      "Average loss: 0.9822\n",
      "42000 84% (3m 14s) 1.5301 matter / French ✗ (English)\n",
      "Average loss: 0.9799\n",
      "44000 88% (3m 24s) 0.8323 industrie / French ✓\n",
      "Average loss: 1.0026\n",
      "46000 92% (3m 34s) 1.2697 main / English ✗ (French)\n",
      "Average loss: 0.9875\n",
      "48000 96% (3m 43s) 0.2217 et-pel / Tolkien Elvish ✓\n",
      "Average loss: 0.9495\n",
      "50000 100% (3m 52s) 0.0745 woofum / Simlish ✓\n",
      "Average loss: 0.9625\n"
     ]
    },
    {
     "name": "stderr",
     "output_type": "stream",
     "text": [
      "C:\\ProgramData\\Anaconda3\\lib\\site-packages\\torch\\serialization.py:360: UserWarning: Couldn't retrieve source code for container of type RNN. It won't be checked for correctness upon loading.\n",
      "  \"type \" + obj.__name__ + \". It won't be checked \"\n"
     ]
    }
   ],
   "source": [
    "rnn = RNN(n_letters, n_hidden, n_languages)\n",
    "losses = train_charRNN(n_iters, learning_rate, avg_loss_intervals)"
   ]
  },
  {
   "cell_type": "code",
   "execution_count": 14,
   "metadata": {},
   "outputs": [
    {
     "data": {
      "image/png": "[encoded data removed]",
      "text/plain": [
       "<Figure size 432x288 with 1 Axes>"
      ]
     },
     "metadata": {
      "needs_background": "light"
     },
     "output_type": "display_data"
    }
   ],
   "source": [
    "plt.plot(losses)\n",
    "plt.xlabel('Training Iteration * {}'.format(int(n_iters / avg_loss_intervals)))\n",
    "plt.ylabel('Average Loss per {} Iterations'.format(int(n_iters / avg_loss_intervals)))\n",
    "plt.title('Average Loss for RNN Model Stopwords Excluded')\n",
    "plt.show()"
   ]
  },
  {
   "cell_type": "code",
   "execution_count": 15,
   "metadata": {},
   "outputs": [],
   "source": [
    "def getAccuracy(dataset):\n",
    "    total_words = len(dataset.index)\n",
    "    correct_predictions = 0\n",
    "    for i in dataset.index:\n",
    "        word = dataset['Word'][i]\n",
    "        language = dataset['Language'][i]\n",
    "        prediction = predict(word)[0][1]\n",
    "        if prediction == language:\n",
    "            correct_predictions += 1\n",
    "    return correct_predictions / total_words"
   ]
  },
  {
   "cell_type": "code",
   "execution_count": 16,
   "metadata": {},
   "outputs": [
    {
     "name": "stdout",
     "output_type": "stream",
     "text": [
      "training data accuracy: 61.5350%\n",
      "testing data accuracy: 54.6679%\n"
     ]
    }
   ],
   "source": [
    "print('training data accuracy: {:.4f}%'.format(getAccuracy(train_data) * 100))\n",
    "print('testing data accuracy: {:.4f}%'.format(getAccuracy(test_data) * 100))"
   ]
  },
  {
   "cell_type": "markdown",
   "metadata": {},
   "source": [
    "## Stopwords Included"
   ]
  },
  {
   "cell_type": "code",
   "execution_count": 17,
   "metadata": {},
   "outputs": [
    {
     "name": "stdout",
     "output_type": "stream",
     "text": [
      "Number of Words per Language\n"
     ]
    },
    {
     "data": {
      "text/plain": [
       "Language\n",
       "English           1000\n",
       "French            1000\n",
       "German            1000\n",
       "Italian           1000\n",
       "Simlish            111\n",
       "Spanish           1000\n",
       "Tolkien Elvish     894\n",
       "dtype: int64"
      ]
     },
     "execution_count": 17,
     "metadata": {},
     "output_type": "execute_result"
    }
   ],
   "source": [
    "csv_data = parseCSV('language_dataset_with_stopwords.csv')\n",
    "train_data, test_data = train_test_split(csv_data, test_size=0.2)\n",
    "\n",
    "training_words = reformatData(train_data)\n",
    "testing_words = reformatData(test_data)\n",
    "\n",
    "all_languages = list(training_words.keys())\n",
    "n_languages = len(all_languages)\n",
    "\n",
    "print('Number of Words per Language')\n",
    "csv_data.groupby('Language').size()"
   ]
  },
  {
   "cell_type": "code",
   "execution_count": 18,
   "metadata": {},
   "outputs": [
    {
     "name": "stdout",
     "output_type": "stream",
     "text": [
      "2000 4% (0m 10s) 1.8440 reclamación / English ✗ (Spanish)\n",
      "Average loss: 1.8014\n",
      "4000 8% (0m 19s) 1.8609 direkt / English ✗ (German)\n",
      "Average loss: 1.5774\n",
      "6000 12% (0m 27s) 1.7245 solución / English ✗ (Spanish)\n",
      "Average loss: 1.4833\n",
      "8000 16% (0m 36s) 1.9190 gutta / Spanish ✗ (Simlish)\n",
      "Average loss: 1.3869\n",
      "10000 20% (0m 44s) 0.6830 pesada / Spanish ✓\n",
      "Average loss: 1.2557\n",
      "12000 24% (0m 53s) 1.5987 horse / English ✓\n",
      "Average loss: 1.1762\n",
      "14000 28% (1m 2s) 2.1891 zerpa / Spanish ✗ (Simlish)\n",
      "Average loss: 1.1969\n",
      "16000 32% (1m 10s) 0.3370 sugnorg / Simlish ✓\n",
      "Average loss: 1.1154\n",
      "18000 36% (1m 19s) 0.4386 -se-sē̆ / Tolkien Elvish ✓\n",
      "Average loss: 1.1221\n",
      "20000 40% (1m 28s) 1.2855 shooflee / French ✗ (Simlish)\n",
      "Average loss: 1.0722\n",
      "22000 44% (1m 38s) 0.0896 tekmē / Tolkien Elvish ✓\n",
      "Average loss: 1.0153\n",
      "24000 48% (1m 48s) 0.2172 vadish / Simlish ✓\n",
      "Average loss: 1.0104\n",
      "26000 52% (1m 58s) 2.2439 shooflee / German ✗ (Simlish)\n",
      "Average loss: 1.0621\n",
      "28000 56% (2m 7s) 2.1409 pece / English ✗ (Italian)\n",
      "Average loss: 1.0823\n",
      "30000 60% (2m 18s) 1.6949 campana / Italian ✗ (Spanish)\n",
      "Average loss: 1.0714\n",
      "32000 64% (2m 29s) 1.4689 ver / French ✗ (Spanish)\n",
      "Average loss: 1.0223\n",
      "34000 68% (2m 39s) nan Rad / Italian ✗ (German)\n",
      "Average loss: nan\n",
      "36000 72% (2m 48s) nan rock / Italian ✗ (English)\n",
      "Average loss: nan\n",
      "38000 76% (2m 58s) nan pli / Italian ✗ (French)\n",
      "Average loss: nan\n",
      "40000 80% (3m 7s) nan Licht / Italian ✗ (German)\n",
      "Average loss: nan\n",
      "42000 84% (3m 17s) nan smile / Italian ✗ (English)\n",
      "Average loss: nan\n",
      "44000 88% (3m 27s) nan roo / Italian ✗ (Simlish)\n",
      "Average loss: nan\n",
      "46000 92% (3m 37s) nan Grund / Italian ✗ (German)\n",
      "Average loss: nan\n",
      "48000 96% (3m 47s) nan Erfahrung / Italian ✗ (German)\n",
      "Average loss: nan\n",
      "50000 100% (3m 57s) nan último / Italian ✗ (Spanish)\n",
      "Average loss: nan\n"
     ]
    }
   ],
   "source": [
    "rnn = RNN(n_letters, n_hidden, n_languages)\n",
    "losses = train_charRNN(n_iters, learning_rate, avg_loss_intervals)"
   ]
  },
  {
   "cell_type": "code",
   "execution_count": 19,
   "metadata": {},
   "outputs": [
    {
     "data": {
      "image/png": "[encoded data removed]",
      "text/plain": [
       "<Figure size 432x288 with 1 Axes>"
      ]
     },
     "metadata": {
      "needs_background": "light"
     },
     "output_type": "display_data"
    }
   ],
   "source": [
    "plt.plot(losses)\n",
    "plt.xlabel('Training Iteration * {}'.format(int(n_iters / avg_loss_intervals)))\n",
    "plt.ylabel('Average Loss per {} Iterations'.format(int(n_iters / avg_loss_intervals)))\n",
    "plt.title('Average Loss for RNN Model Stopwords Included')\n",
    "plt.show()"
   ]
  },
  {
   "cell_type": "code",
   "execution_count": 20,
   "metadata": {
    "scrolled": true
   },
   "outputs": [
    {
     "name": "stdout",
     "output_type": "stream",
     "text": [
      "training data accuracy: 16.5279%\n",
      "testing data accuracy: 17.1524%\n"
     ]
    }
   ],
   "source": [
    "print('training data accuracy: {:.4f}%'.format(getAccuracy(train_data) * 100))\n",
    "print('testing data accuracy: {:.4f}%'.format(getAccuracy(test_data) * 100))"
   ]
  },
  {
   "cell_type": "markdown",
   "metadata": {},
   "source": [
    "## Difficult Words"
   ]
  },
  {
   "cell_type": "code",
   "execution_count": 21,
   "metadata": {},
   "outputs": [
    {
     "name": "stdout",
     "output_type": "stream",
     "text": [
      "Number of Words per Language\n"
     ]
    },
    {
     "data": {
      "text/plain": [
       "Language\n",
       "English           882\n",
       "French            790\n",
       "German            862\n",
       "Italian           811\n",
       "Simlish           111\n",
       "Spanish           821\n",
       "Tolkien Elvish    893\n",
       "dtype: int64"
      ]
     },
     "execution_count": 21,
     "metadata": {},
     "output_type": "execute_result"
    }
   ],
   "source": [
    "csv_data = parseCSV('difficult_set.csv')\n",
    "train_data, test_data = train_test_split(csv_data, test_size=0.2)\n",
    "\n",
    "training_words = reformatData(train_data)\n",
    "testing_words = reformatData(test_data)\n",
    "\n",
    "all_languages = list(training_words.keys())\n",
    "n_languages = len(all_languages)\n",
    "\n",
    "print('Number of Words per Language')\n",
    "csv_data.groupby('Language').size()"
   ]
  },
  {
   "cell_type": "code",
   "execution_count": 22,
   "metadata": {},
   "outputs": [
    {
     "name": "stdout",
     "output_type": "stream",
     "text": [
      "2000 4% (0m 9s) 1.6129 libbra / Italian ✓\n",
      "Average loss: 1.8447\n",
      "4000 8% (0m 19s) 2.2840 shurb / Tolkien Elvish ✗ (Simlish)\n",
      "Average loss: 1.5639\n",
      "6000 12% (0m 29s) 1.1876 mik / Simlish ✓\n",
      "Average loss: 1.4177\n",
      "8000 16% (0m 39s) 1.3473 element / French ✗ (English)\n",
      "Average loss: 1.2789\n",
      "10000 20% (0m 50s) 0.8979 camta- / Tolkien Elvish ✓\n",
      "Average loss: 1.2276\n",
      "12000 24% (1m 0s) 2.2113 exercise / Italian ✗ (English)\n",
      "Average loss: 1.1902\n",
      "14000 28% (1m 10s) 0.7622 hear / English ✓\n",
      "Average loss: 1.1982\n",
      "16000 32% (1m 20s) 1.7805 os / Simlish ✗ (French)\n",
      "Average loss: 1.0951\n",
      "18000 36% (1m 28s) 1.4161 sminu / Tolkien Elvish ✓\n",
      "Average loss: 1.0644\n",
      "20000 40% (1m 38s) 0.2125 besitzen / German ✓\n",
      "Average loss: 1.0502\n",
      "22000 44% (1m 47s) 1.4580 vens unch / English ✗ (Simlish)\n",
      "Average loss: 1.0226\n",
      "24000 48% (1m 57s) 1.0851 número / Italian ✗ (Spanish)\n",
      "Average loss: 0.9895\n",
      "26000 52% (2m 7s) 0.4923 balaniā / Tolkien Elvish ✓\n",
      "Average loss: 1.0030\n",
      "28000 56% (2m 15s) 0.6090 bay / Simlish ✓\n",
      "Average loss: 0.9849\n",
      "30000 60% (2m 23s) 0.0041 -wē / Tolkien Elvish ✓\n",
      "Average loss: 0.9592\n",
      "32000 64% (2m 33s) 1.1106 frisch / German ✓\n",
      "Average loss: 0.9584\n",
      "34000 68% (2m 42s) 1.6558 puissance / Italian ✗ (French)\n",
      "Average loss: 0.9595\n",
      "36000 72% (2m 51s) 0.6869 ascoltare / Italian ✓\n",
      "Average loss: 0.9160\n",
      "38000 76% (3m 0s) 0.5644 atto / Italian ✓\n",
      "Average loss: 0.9210\n",
      "40000 80% (3m 9s) 2.2176 kommen  / Tolkien Elvish ✗ (German)\n",
      "Average loss: 0.9172\n",
      "42000 84% (3m 17s) 0.7286 permitir / French ✗ (Spanish)\n",
      "Average loss: 0.8943\n",
      "44000 88% (3m 27s) 0.4741 sustancia / Spanish ✓\n",
      "Average loss: 0.9529\n",
      "46000 92% (3m 36s) 3.8237 ha / Simlish ✗ (Italian)\n",
      "Average loss: 0.8822\n",
      "48000 96% (3m 45s) 1.7957 bord / English ✗ (French)\n",
      "Average loss: 0.8888\n",
      "50000 100% (3m 56s) 0.2003 maka / Simlish ✓\n",
      "Average loss: 0.8871\n"
     ]
    }
   ],
   "source": [
    "rnn = RNN(n_letters, n_hidden, n_languages)\n",
    "losses = train_charRNN(n_iters, learning_rate, avg_loss_intervals)"
   ]
  },
  {
   "cell_type": "code",
   "execution_count": 23,
   "metadata": {},
   "outputs": [
    {
     "data": {
      "image/png": "[encoded data removed]",
      "text/plain": [
       "<Figure size 432x288 with 1 Axes>"
      ]
     },
     "metadata": {
      "needs_background": "light"
     },
     "output_type": "display_data"
    }
   ],
   "source": [
    "plt.plot(losses)\n",
    "plt.xlabel('Training Iteration * {}'.format(int(n_iters / avg_loss_intervals)))\n",
    "plt.ylabel('Average Loss per {} Iterations'.format(int(n_iters / avg_loss_intervals)))\n",
    "plt.title('Average Loss for RNN Model Difficult Words')\n",
    "plt.show()"
   ]
  },
  {
   "cell_type": "code",
   "execution_count": 24,
   "metadata": {},
   "outputs": [
    {
     "name": "stdout",
     "output_type": "stream",
     "text": [
      "training data accuracy: 63.8540%\n",
      "testing data accuracy: 58.4139%\n"
     ]
    }
   ],
   "source": [
    "print('training data accuracy: {:.4f}%'.format(getAccuracy(train_data) * 100))\n",
    "print('testing data accuracy: {:.4f}%'.format(getAccuracy(test_data) * 100))"
   ]
  },
  {
   "cell_type": "markdown",
   "metadata": {},
   "source": [
    "## Only Words Greater than Two Characters Long Included"
   ]
  },
  {
   "cell_type": "code",
   "execution_count": 25,
   "metadata": {
    "scrolled": true
   },
   "outputs": [
    {
     "name": "stdout",
     "output_type": "stream",
     "text": [
      "Number of Words per Language\n"
     ]
    },
    {
     "data": {
      "text/plain": [
       "Language\n",
       "English           973\n",
       "French            970\n",
       "German            984\n",
       "Italian           968\n",
       "Simlish           100\n",
       "Spanish           970\n",
       "Tolkien Elvish    848\n",
       "dtype: int64"
      ]
     },
     "execution_count": 25,
     "metadata": {},
     "output_type": "execute_result"
    }
   ],
   "source": [
    "csv_data = parseCSV('language_dataset_with_stopwords.csv')\n",
    "filtered_data = csv_data[csv_data['Word'].apply(lambda x: len(x) > 2)]\n",
    "train_data, test_data = train_test_split(filtered_data, test_size=0.2)\n",
    "\n",
    "training_words = reformatData(train_data)\n",
    "testing_words = reformatData(test_data)\n",
    "\n",
    "all_languages = list(training_words.keys())\n",
    "n_languages = len(all_languages)\n",
    "\n",
    "print('Number of Words per Language')\n",
    "filtered_data.groupby('Language').size()"
   ]
  },
  {
   "cell_type": "code",
   "execution_count": 26,
   "metadata": {},
   "outputs": [
    {
     "name": "stdout",
     "output_type": "stream",
     "text": [
      "2000 4% (0m 9s) 1.7043 amar / Tolkien Elvish ✗ (Spanish)\n",
      "Average loss: 1.7894\n",
      "4000 8% (0m 18s) 1.7180 thara-pata / Italian ✗ (Tolkien Elvish)\n",
      "Average loss: 1.5761\n",
      "6000 12% (0m 28s) 0.2750 Tal / German ✓\n",
      "Average loss: 1.3857\n",
      "8000 16% (0m 36s) 0.9703 -ita / Tolkien Elvish ✓\n",
      "Average loss: 1.2894\n",
      "10000 20% (0m 46s) 0.9991 taman- / Tolkien Elvish ✓\n",
      "Average loss: 1.2059\n",
      "12000 24% (0m 55s) 2.8477 Runde / Tolkien Elvish ✗ (German)\n",
      "Average loss: 1.1648\n",
      "14000 28% (1m 5s) 2.5977 soldi / Tolkien Elvish ✗ (Italian)\n",
      "Average loss: 1.1380\n",
      "16000 32% (1m 14s) 0.5525 sail / English ✓\n",
      "Average loss: 1.0819\n",
      "18000 36% (1m 24s) 0.5627 mbar- / Tolkien Elvish ✓\n",
      "Average loss: 1.0882\n",
      "20000 40% (1m 33s) 1.4078 alcuni / Italian ✓\n",
      "Average loss: 0.9999\n",
      "22000 44% (1m 43s) 1.7485 et-pel / English ✗ (Tolkien Elvish)\n",
      "Average loss: 0.9995\n",
      "24000 48% (1m 53s) 1.1161 stampa / Italian ✓\n",
      "Average loss: 0.9634\n",
      "26000 52% (2m 2s) 0.3127 mercado / Spanish ✓\n",
      "Average loss: 0.9715\n",
      "28000 56% (2m 12s) 0.3017 ndīlī / Tolkien Elvish ✓\n",
      "Average loss: 0.9859\n",
      "30000 60% (2m 21s) 2.3422 rinse / Italian ✗ (Tolkien Elvish)\n",
      "Average loss: 0.9545\n",
      "32000 64% (2m 31s) 0.0917 malnā / Tolkien Elvish ✓\n",
      "Average loss: 0.9896\n",
      "34000 68% (2m 38s) 0.0033 otsōyā / Tolkien Elvish ✓\n",
      "Average loss: 0.9324\n",
      "36000 72% (2m 47s) 1.6364 regarder / German ✗ (French)\n",
      "Average loss: 0.8954\n",
      "38000 76% (2m 55s) 1.4697 mori / Italian ✗ (Tolkien Elvish)\n",
      "Average loss: 0.9490\n",
      "40000 80% (3m 4s) 0.1808 galadā / Tolkien Elvish ✓\n",
      "Average loss: 0.9489\n",
      "42000 84% (3m 13s) 0.0053 zo hungwah / Simlish ✓\n",
      "Average loss: 0.8919\n",
      "44000 88% (3m 22s) 2.6569 totales / Simlish ✗ (Spanish)\n",
      "Average loss: 0.9417\n",
      "46000 92% (3m 32s) 0.4456 soft / English ✓\n",
      "Average loss: 0.8998\n",
      "48000 96% (3m 43s) 0.6261 volare / Italian ✓\n",
      "Average loss: 0.8559\n",
      "50000 100% (3m 53s) 1.0410 grazie / Italian ✓\n",
      "Average loss: 0.8777\n"
     ]
    }
   ],
   "source": [
    "rnn = RNN(n_letters, n_hidden, n_languages)\n",
    "losses = train_charRNN(n_iters, learning_rate, avg_loss_intervals)"
   ]
  },
  {
   "cell_type": "code",
   "execution_count": 27,
   "metadata": {},
   "outputs": [
    {
     "data": {
      "image/png": "[encoded data removed]",
      "text/plain": [
       "<Figure size 432x288 with 1 Axes>"
      ]
     },
     "metadata": {
      "needs_background": "light"
     },
     "output_type": "display_data"
    }
   ],
   "source": [
    "plt.plot(losses)\n",
    "plt.xlabel('Training Iteration * {}'.format(int(n_iters / avg_loss_intervals)))\n",
    "plt.ylabel('Average Loss per {} Iterations'.format(int(n_iters / avg_loss_intervals)))\n",
    "plt.title('Average Loss for RNN Model Only Words Greater than 2 Char Long')\n",
    "plt.show()"
   ]
  },
  {
   "cell_type": "code",
   "execution_count": 28,
   "metadata": {},
   "outputs": [
    {
     "name": "stdout",
     "output_type": "stream",
     "text": [
      "training data accuracy: 60.8602%\n",
      "testing data accuracy: 55.6320%\n"
     ]
    }
   ],
   "source": [
    "print('training data accuracy: {:.4f}%'.format(getAccuracy(train_data) * 100))\n",
    "print('testing data accuracy: {:.4f}%'.format(getAccuracy(test_data) * 100))"
   ]
  },
  {
   "cell_type": "markdown",
   "metadata": {},
   "source": [
    "## Only Words Greater than Three Characters Long Included"
   ]
  },
  {
   "cell_type": "code",
   "execution_count": 29,
   "metadata": {},
   "outputs": [
    {
     "name": "stdout",
     "output_type": "stream",
     "text": [
      "Number of Words per Language\n"
     ]
    },
    {
     "data": {
      "text/plain": [
       "Language\n",
       "English           848\n",
       "French            882\n",
       "German            905\n",
       "Italian           925\n",
       "Simlish            83\n",
       "Spanish           918\n",
       "Tolkien Elvish    773\n",
       "dtype: int64"
      ]
     },
     "execution_count": 29,
     "metadata": {},
     "output_type": "execute_result"
    }
   ],
   "source": [
    "csv_data = parseCSV('language_dataset_with_stopwords.csv')\n",
    "filtered_data = csv_data[csv_data['Word'].apply(lambda x: len(x) > 3)]\n",
    "train_data, test_data = train_test_split(filtered_data, test_size=0.2)\n",
    "\n",
    "training_words = reformatData(train_data)\n",
    "testing_words = reformatData(test_data)\n",
    "\n",
    "all_languages = list(training_words.keys())\n",
    "n_languages = len(all_languages)\n",
    "\n",
    "print('Number of Words per Language')\n",
    "filtered_data.groupby('Language').size()"
   ]
  },
  {
   "cell_type": "code",
   "execution_count": null,
   "metadata": {},
   "outputs": [
    {
     "name": "stdout",
     "output_type": "stream",
     "text": [
      "2000 4% (0m 9s) 1.7839 care / French ✗ (English)\n",
      "Average loss: 1.7782\n"
     ]
    }
   ],
   "source": [
    "rnn = RNN(n_letters, n_hidden, n_languages)\n",
    "losses = train_charRNN(n_iters, learning_rate, avg_loss_intervals)"
   ]
  },
  {
   "cell_type": "code",
   "execution_count": null,
   "metadata": {},
   "outputs": [],
   "source": [
    "plt.plot(losses)\n",
    "plt.xlabel('Training Iteration * {}'.format(int(n_iters / avg_loss_intervals)))\n",
    "plt.ylabel('Average Loss per {} Iterations'.format(int(n_iters / avg_loss_intervals)))\n",
    "plt.title('Average Loss for RNN Model Only Words Greater than 3 Char Long')\n",
    "plt.show()"
   ]
  },
  {
   "cell_type": "code",
   "execution_count": null,
   "metadata": {},
   "outputs": [],
   "source": [
    "print('training data accuracy: {:.4f}%'.format(getAccuracy(train_data) * 100))\n",
    "print('testing data accuracy: {:.4f}%'.format(getAccuracy(test_data) * 100))"
   ]
  }
 ],
 "metadata": {
  "kernelspec": {
   "display_name": "Python 3",
   "language": "python",
   "name": "python3"
  },
  "language_info": {
   "codemirror_mode": {
    "name": "ipython",
    "version": 3
   },
   "file_extension": ".py",
   "mimetype": "text/x-python",
   "name": "python",
   "nbconvert_exporter": "python",
   "pygments_lexer": "ipython3",
   "version": "3.7.4"
  }
 },
 "nbformat": 4,
 "nbformat_minor": 2
}
