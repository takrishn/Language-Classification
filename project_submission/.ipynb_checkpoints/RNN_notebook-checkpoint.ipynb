{
 "cells": [
  {
   "cell_type": "code",
   "execution_count": 1,
   "metadata": {},
   "outputs": [],
   "source": [
    "from __future__ import unicode_literals, print_function, division\n",
    "\n",
    "import glob\n",
    "import os\n",
    "import random\n",
    "import time\n",
    "import math\n",
    "import torch\n",
    "import torchvision\n",
    "import unicodedata\n",
    "import string\n",
    "import itertools\n",
    "\n",
    "import pandas as pd\n",
    "import torch.nn as nn\n",
    "import torchvision.transforms as transforms\n",
    "\n",
    "from io import open\n",
    "from matplotlib import pyplot as plt\n",
    "from collections import defaultdict\n",
    "from sklearn.model_selection import train_test_split"
   ]
  },
  {
   "cell_type": "markdown",
   "metadata": {},
   "source": [
    "# Set Up"
   ]
  },
  {
   "cell_type": "code",
   "execution_count": 2,
   "metadata": {},
   "outputs": [],
   "source": [
    "# Build the language_words dictionary, a list of words per language\n",
    "def parseCSV(file):\n",
    "    \"\"\"returns pandas dataframe from CSV file\"\"\"\n",
    "    data = pd.read_csv(file)\n",
    "    return data\n",
    "\n",
    "def reformatData(data):\n",
    "    \"\"\"takes in pandas dataframe and outputs data in right format\"\"\"\n",
    "    language_words = defaultdict(list) \n",
    "    data = data.to_dict('split')['data']\n",
    "    \n",
    "    for entry in data:\n",
    "        language_words[entry[1]].append(entry[0])\n",
    "        \n",
    "    return dict(language_words)"
   ]
  },
  {
   "cell_type": "markdown",
   "metadata": {},
   "source": [
    "Parse our language dataset and populate four variables we will be using later:\n",
    "\n",
    "training_words = `{'Simlish': ['Dag Dag', 'Zagadoo', ...], 'English': ['event', ...], ...}`\n",
    "\n",
    "test_words = same format at training_words\n",
    "\n",
    "all_languages = `['English', 'Spanish', 'Tolkien Elvish', ...]`\n",
    "\n",
    "n_languages = 7"
   ]
  },
  {
   "cell_type": "code",
   "execution_count": 3,
   "metadata": {},
   "outputs": [
    {
     "name": "stdout",
     "output_type": "stream",
     "text": [
      "n_letters: 82\n",
      "all_letters: [' ', \"'\", '(', ')', ',', '-', '.', '/', ';', 'a', 'b', 'c', 'd', 'e', 'f', 'g', 'h', 'i', 'j', 'k', 'l', 'm', 'n', 'o', 'p', 'q', 'r', 's', 't', 'u', 'v', 'w', 'x', 'y', 'z', '²', '¹', 'ß', 'à', 'á', 'â', 'ä', 'ç', 'è', 'é', 'ê', 'ë', 'ì', 'í', 'î', 'ï', 'ñ', 'ò', 'ó', 'ô', 'ö', 'ù', 'ú', 'û', 'ü', 'þ', 'ā', 'ă', 'ē', 'ĕ', 'ī', 'ĭ', 'ō', 'ŏ', 'œ', 'ū', 'ƀ', 'ʒ', 'ˢ', '́', '̆', '̣', '̯', 'ṃ', 'ṇ', '’', '…']\n"
     ]
    }
   ],
   "source": [
    "# parse the data for characters we need to include\n",
    "csv_data = parseCSV('language_dataset.csv')\n",
    "csv_data[\"Word\"]= csv_data[\"Word\"].str.lower()\n",
    "language_words = reformatData(csv_data)\n",
    "\n",
    "# populate all_letters with alphabet lower and upper \n",
    "# along with spaces and a few other punctuations\n",
    "all_letters = set()\n",
    "\n",
    "for letter in 'abcdefghijklmnopqrstuvwxyz' + \" .,;'\" + 'áéíóúüñàèìòùçâêîôûëïäöß()-āēīōū’ā̆ē̆ī̆ō̆ăĭḗū́u̯ṇ̃þʒ¹²/':\n",
    "    all_letters.add(letter)\n",
    "\n",
    "# we also need to include special characters found in certain languages\n",
    "# primarily Tolkien Elvish and Spanish\n",
    "for lang in language_words.keys():\n",
    "    for word in language_words[lang]:\n",
    "        for letter in word:\n",
    "            all_letters.add(letter)      \n",
    "            \n",
    "n_letters = len(all_letters)\n",
    "all_letters = sorted(list(all_letters))\n",
    "print('n_letters:', n_letters)\n",
    "print('all_letters:', all_letters)"
   ]
  },
  {
   "cell_type": "code",
   "execution_count": 4,
   "metadata": {},
   "outputs": [],
   "source": [
    "# Turn names into tensors\n",
    "# Find letter index from all_letters, e.g. \"a\" = 0\n",
    "def letterToIndex(letter):\n",
    "    try:\n",
    "        if letter == '\\xa0':\n",
    "            letter = ' '\n",
    "        return all_letters.index(letter)\n",
    "    except:\n",
    "        return None\n",
    "\n",
    "# Just for demonstration, turn a letter into a <1 x n_letters> Tensor\n",
    "def letterToTensor(letter):\n",
    "    tensor = torch.zeros(1, n_letters)\n",
    "    tensor[0][letterToIndex(letter)] = 1\n",
    "    return tensor"
   ]
  },
  {
   "cell_type": "code",
   "execution_count": 5,
   "metadata": {},
   "outputs": [],
   "source": [
    "# Turn a line into a <line_length x 1 x n_letters> tensor\n",
    "def lineToTensor(line):\n",
    "    tensor = torch.zeros(len(line), 1, n_letters)\n",
    "    for li, letter in enumerate(line):\n",
    "        tensor[li][0][letterToIndex(letter)] = 1\n",
    "    return tensor\n",
    "\n",
    "def categoryFromOutput(output):\n",
    "    top_n, top_i = output.topk(1)\n",
    "    language_i = top_i[0].item()\n",
    "    return all_languages[language_i], language_i"
   ]
  },
  {
   "cell_type": "code",
   "execution_count": 6,
   "metadata": {},
   "outputs": [],
   "source": [
    "def randomChoice(l):\n",
    "    return l[random.randint(0, len(l) - 1)]\n",
    "\n",
    "def randomTrainingExample():\n",
    "    category = randomChoice(all_languages) # choose a random language\n",
    "    line = randomChoice(training_words[category]) # choose a random word from that language\n",
    "    # turn the language into a 1D tensor\n",
    "    category_tensor = torch.tensor([all_languages.index(category)], dtype=torch.long)\n",
    "    # line_tensor is a 2D tensor containing a tensor for each letter\n",
    "    line_tensor = lineToTensor(line)\n",
    "    return category, line, category_tensor, line_tensor"
   ]
  },
  {
   "cell_type": "code",
   "execution_count": 7,
   "metadata": {},
   "outputs": [],
   "source": [
    "class RNN(nn.Module):\n",
    "    def __init__(self, input_size, hidden_size, output_size):\n",
    "        super(RNN, self).__init__()\n",
    "\n",
    "        # Put the declaration of RNN network here\n",
    "        self.hidden_size = hidden_size\n",
    "    \n",
    "        self.i2h = nn.Linear(input_size + hidden_size, hidden_size)\n",
    "        self.i2o = nn.Linear(input_size + hidden_size, output_size)\n",
    "        self.softmax = nn.LogSoftmax(dim=1)\n",
    "\n",
    "    def forward(self, input, hidden):\n",
    "        # Put the computation for forward pass here\n",
    "        combined = torch.cat((input, hidden), 1)\n",
    "        output = self.i2o(combined)\n",
    "        output = self.softmax(output)\n",
    "        hidden = self.i2h(combined)\n",
    "\n",
    "        return output, hidden\n",
    "\n",
    "    def initHidden(self):\n",
    "        return torch.zeros(1, self.hidden_size)"
   ]
  },
  {
   "cell_type": "code",
   "execution_count": 8,
   "metadata": {},
   "outputs": [],
   "source": [
    "def train_iteration_CharRNN(learning_rate, category_tensor, line_tensor):\n",
    "    criterion = nn.NLLLoss()\n",
    "    hidden = rnn.initHidden()\n",
    "    rnn.zero_grad()\n",
    "\n",
    "    # The forward process\n",
    "    for i in range(line_tensor.size()[0]):\n",
    "        output, hidden = rnn(line_tensor[i], hidden)\n",
    "\n",
    "    # The backward process\n",
    "    loss = criterion(output, category_tensor)\n",
    "    loss.backward()\n",
    "\n",
    "    # Add parameters' gradients to their values, multiplied by learning rate\n",
    "    for p in rnn.parameters():\n",
    "        p.data.add_(-learning_rate, p.grad.data)\n",
    "\n",
    "    return output, loss.item()\n"
   ]
  },
  {
   "cell_type": "code",
   "execution_count": 9,
   "metadata": {},
   "outputs": [],
   "source": [
    "def train_charRNN(n_iters, learning_rate, avg_loss_intervals):\n",
    "    print_every = n_iters / avg_loss_intervals\n",
    "    current_loss = 0\n",
    "    losses = []\n",
    "\n",
    "    def timeSince(since):\n",
    "        now = time.time()\n",
    "        s = now - since\n",
    "        m = math.floor(s / 60)\n",
    "        s -= m * 60\n",
    "        return '%dm %ds' % (m, s)\n",
    "\n",
    "    start = time.time()\n",
    "\n",
    "    for iter in range(1, n_iters + 1):\n",
    "        category, line, category_tensor, line_tensor = randomTrainingExample()\n",
    "        output, loss = train_iteration_CharRNN(learning_rate, category_tensor, line_tensor)\n",
    "        current_loss += loss\n",
    "\n",
    "        # Print iter number, loss, name and guess\n",
    "        if iter % print_every == 0:\n",
    "            guess, guess_i = categoryFromOutput(output)\n",
    "            correct = '✓' if guess == category else '✗ (%s)' % category\n",
    "            print('%d %d%% (%s) %.4f %s / %s %s' % (\n",
    "                iter, iter / n_iters * 100, timeSince(start), loss, line, guess, correct))\n",
    "            print('Average loss: %.4f' % (current_loss/print_every))\n",
    "            losses.append(current_loss/print_every)\n",
    "            current_loss = 0\n",
    "\n",
    "    torch.save(rnn, 'char-rnn-classification.pt')\n",
    "    return losses"
   ]
  },
  {
   "cell_type": "code",
   "execution_count": 10,
   "metadata": {},
   "outputs": [],
   "source": [
    "# Finish the prediction function to provide predictions for any \n",
    "# input string (name) from the user\n",
    "def predict(input_line, n_predictions=7):\n",
    "#     print(\"Prediction for %s:\" % input_line)\n",
    "    hidden = rnn.initHidden()\n",
    "\n",
    "    # Generate the input for RNN\n",
    "    line_tensor = lineToTensor(input_line)\n",
    "    for i in range(line_tensor.size()[0]):\n",
    "        output, hidden = rnn(line_tensor[i], hidden)\n",
    "\n",
    "    # Get the value and index of top K predictions from the output\n",
    "    # Then apply Softmax function on the scores of all category predictions so we can \n",
    "    # output the probabilities that this name belongs to different languages.\n",
    "    topv, topi = output.data.topk(n_predictions, 1, True)\n",
    "    softmax = nn.Softmax(dim=1)\n",
    "    top_prob = softmax(topv)\n",
    "    predictions = []\n",
    " \n",
    "    for i in range(3):\n",
    "        value = topv[0][i]\n",
    "        prob = top_prob[0][i] * 100\n",
    "        category_index = topi[0][i]\n",
    "#         print('%s Probability: (%.2f), Score: (%.2f)' % (all_languages[category_index], prob, value))\n",
    "        predictions.append([value, all_languages[category_index]])\n",
    "    return predictions"
   ]
  },
  {
   "cell_type": "code",
   "execution_count": 11,
   "metadata": {},
   "outputs": [],
   "source": [
    "def getAccuracy(dataset):\n",
    "    total_words = len(dataset.index)\n",
    "    correct_predictions = 0\n",
    "    for i in dataset.index:\n",
    "        word = dataset['Word'][i]\n",
    "        language = dataset['Language'][i]\n",
    "        prediction = predict(word)[0][1]\n",
    "        if prediction == language:\n",
    "            correct_predictions += 1\n",
    "    return correct_predictions / total_words"
   ]
  },
  {
   "cell_type": "markdown",
   "metadata": {},
   "source": [
    "# Training the Model"
   ]
  },
  {
   "cell_type": "code",
   "execution_count": 12,
   "metadata": {
    "scrolled": true
   },
   "outputs": [],
   "source": [
    "# Accuracies for training the RNN model without stop words:\n",
    "# n_iters=10000, learning_rate=0.02\n",
    "# training data accuracy: 60.4129%\n",
    "# testing data accuracy: 57.0018%\n",
    "\n",
    "# n_iters=50000, learning_rate=0.005\n",
    "# training data accuracy: 64.0934%\n",
    "# testing data accuracy: 58.4381%\n",
    "\n",
    "# n_iters=50000, learning_rate=0.008\n",
    "# training data accuracy: 66.1580%\n",
    "# testing data accuracy: 64.1831%\n",
    "\n",
    "# n_iters=50000, learning_rate=0.01\n",
    "# training data accuracy: 64.6095%\n",
    "# testing data accuracy: 60.0539%\n",
    "\n",
    "# n_iters=70000, learning_rate=0.008\n",
    "# training data accuracy: 69.7711%\n",
    "# testing data accuracy: 62.9264%\n",
    "\n",
    "# n_iters=70000, learning_rate=0.005\n",
    "# training data accuracy: 69.5691%\n",
    "# testing data accuracy: 61.7594%\n",
    "\n",
    "# n_iters=40000, learning_rate=0.008\n",
    "# training data accuracy: 65.9785%\n",
    "# testing data accuracy: 57.5404%\n",
    "\n",
    "n_hidden = 128\n",
    "n_iters = 50000 # number of iterations\n",
    "learning_rate = 0.008\n",
    "avg_loss_intervals = 25 # this is just how many avg losses points to display on the graph"
   ]
  },
  {
   "cell_type": "markdown",
   "metadata": {},
   "source": [
    "## Stopwords Excluded"
   ]
  },
  {
   "cell_type": "code",
   "execution_count": 13,
   "metadata": {},
   "outputs": [
    {
     "name": "stdout",
     "output_type": "stream",
     "text": [
      "Number of Words per Language\n"
     ]
    },
    {
     "data": {
      "text/plain": [
       "Language\n",
       "English           898\n",
       "French            942\n",
       "German            884\n",
       "Italian           940\n",
       "Simlish           111\n",
       "Spanish           919\n",
       "Tolkien Elvish    876\n",
       "dtype: int64"
      ]
     },
     "execution_count": 13,
     "metadata": {},
     "output_type": "execute_result"
    }
   ],
   "source": [
    "csv_data = parseCSV('language_dataset.csv')\n",
    "csv_data[\"Word\"]= csv_data[\"Word\"].str.lower() \n",
    "\n",
    "train_data, test_data = train_test_split(csv_data, test_size=0.2)\n",
    "\n",
    "training_words = reformatData(train_data)\n",
    "testing_words = reformatData(test_data)\n",
    "\n",
    "all_languages = list(training_words.keys())\n",
    "n_languages = len(all_languages)\n",
    "\n",
    "print('Number of Words per Language')\n",
    "csv_data.groupby('Language').size()"
   ]
  },
  {
   "cell_type": "code",
   "execution_count": 14,
   "metadata": {},
   "outputs": [
    {
     "name": "stdout",
     "output_type": "stream",
     "text": [
      "2000 4% (0m 5s) 1.7544 zo hungwah / Simlish ✓\n",
      "Average loss: 1.8604\n",
      "4000 8% (0m 11s) 1.5041 monture / Italian ✗ (French)\n",
      "Average loss: 1.7061\n",
      "6000 12% (0m 16s) 1.3138 horas / Spanish ✓\n",
      "Average loss: 1.5725\n",
      "8000 16% (0m 22s) 2.0053 offer / French ✗ (English)\n",
      "Average loss: 1.4344\n",
      "10000 20% (0m 27s) 1.7216 proper / French ✗ (English)\n",
      "Average loss: 1.3749\n",
      "12000 24% (0m 33s) 1.5539 early / Spanish ✗ (English)\n",
      "Average loss: 1.2385\n",
      "14000 28% (0m 38s) 0.5311 yibbsy / Simlish ✓\n",
      "Average loss: 1.1728\n",
      "16000 32% (0m 44s) 1.2736 laisser / German ✗ (French)\n",
      "Average loss: 1.1749\n",
      "18000 36% (0m 49s) 1.7939 trop / English ✗ (French)\n",
      "Average loss: 1.1674\n",
      "20000 40% (0m 54s) 0.0226 kalánt- / Tolkien Elvish ✓\n",
      "Average loss: 1.1238\n",
      "22000 44% (0m 58s) 0.4522 proprio / Italian ✓\n",
      "Average loss: 1.1037\n",
      "24000 48% (1m 3s) 0.8064 chica / Spanish ✓\n",
      "Average loss: 1.0677\n",
      "26000 52% (1m 8s) 0.9232 venir / Spanish ✗ (French)\n",
      "Average loss: 1.1151\n",
      "28000 56% (1m 13s) 1.2195 de metal / German ✗ (Spanish)\n",
      "Average loss: 1.0818\n",
      "30000 60% (1m 19s) 0.9655 garsha / Simlish ✓\n",
      "Average loss: 1.0345\n",
      "32000 64% (1m 24s) 0.7348 day / English ✓\n",
      "Average loss: 1.0515\n",
      "34000 68% (1m 28s) 0.9464 dog / English ✓\n",
      "Average loss: 1.0503\n",
      "36000 72% (1m 34s) 0.2553 couvercle / French ✓\n",
      "Average loss: 0.9919\n",
      "38000 76% (1m 39s) 0.3537 organo / Italian ✓\n",
      "Average loss: 1.0333\n",
      "40000 80% (1m 44s) 0.5430 llevar / Spanish ✓\n",
      "Average loss: 1.0674\n",
      "42000 84% (1m 49s) 0.2560 vivere / Italian ✓\n",
      "Average loss: 1.0139\n",
      "44000 88% (1m 54s) 1.9154 example / French ✗ (English)\n",
      "Average loss: 1.0289\n",
      "46000 92% (1m 59s) 0.7639 vêtir / French ✓\n",
      "Average loss: 1.0276\n",
      "48000 96% (2m 4s) 0.7549 plaine / French ✓\n",
      "Average loss: 1.0171\n",
      "50000 100% (2m 9s) 0.2196 powey / Simlish ✓\n",
      "Average loss: 0.9992\n"
     ]
    },
    {
     "name": "stderr",
     "output_type": "stream",
     "text": [
      "C:\\ProgramData\\Anaconda3\\lib\\site-packages\\torch\\serialization.py:360: UserWarning: Couldn't retrieve source code for container of type RNN. It won't be checked for correctness upon loading.\n",
      "  \"type \" + obj.__name__ + \". It won't be checked \"\n"
     ]
    }
   ],
   "source": [
    "rnn = RNN(n_letters, n_hidden, n_languages)\n",
    "stop_words_excluded_losses = train_charRNN(n_iters, learning_rate, avg_loss_intervals)"
   ]
  },
  {
   "cell_type": "code",
   "execution_count": 15,
   "metadata": {},
   "outputs": [],
   "source": [
    "# plt.plot(stop_words_excluded_losses)\n",
    "# plt.xlabel('Training Iteration * {}'.format(int(n_iters / avg_loss_intervals)))\n",
    "# plt.ylabel('Average Loss per {} Iterations'.format(int(n_iters / avg_loss_intervals)))\n",
    "# plt.title('Average Loss for RNN Model Stopwords Excluded')\n",
    "# plt.show()"
   ]
  },
  {
   "cell_type": "code",
   "execution_count": 17,
   "metadata": {},
   "outputs": [],
   "source": [
    "stop_words_excluded_train_acc = getAccuracy(train_data) * 100\n",
    "stop_words_excluded_test_acc = getAccuracy(test_data) * 100"
   ]
  },
  {
   "cell_type": "markdown",
   "metadata": {},
   "source": [
    "## Stopwords Included"
   ]
  },
  {
   "cell_type": "code",
   "execution_count": 18,
   "metadata": {},
   "outputs": [
    {
     "name": "stdout",
     "output_type": "stream",
     "text": [
      "Number of Words per Language\n"
     ]
    },
    {
     "data": {
      "text/plain": [
       "Language\n",
       "English           1000\n",
       "French            1000\n",
       "German            1000\n",
       "Italian           1000\n",
       "Simlish            111\n",
       "Spanish           1000\n",
       "Tolkien Elvish     894\n",
       "dtype: int64"
      ]
     },
     "execution_count": 18,
     "metadata": {},
     "output_type": "execute_result"
    }
   ],
   "source": [
    "csv_data = parseCSV('language_dataset_with_stopwords.csv')\n",
    "train_data, test_data = train_test_split(csv_data, test_size=0.2)\n",
    "\n",
    "training_words = reformatData(train_data)\n",
    "testing_words = reformatData(test_data)\n",
    "\n",
    "all_languages = list(training_words.keys())\n",
    "n_languages = len(all_languages)\n",
    "\n",
    "print('Number of Words per Language')\n",
    "csv_data.groupby('Language').size()"
   ]
  },
  {
   "cell_type": "code",
   "execution_count": 19,
   "metadata": {},
   "outputs": [
    {
     "name": "stdout",
     "output_type": "stream",
     "text": [
      "2000 4% (0m 4s) 1.2940 protokollieren / German ✓\n",
      "Average loss: 1.7857\n",
      "4000 8% (0m 9s) 1.7669 magasin / French ✓\n",
      "Average loss: 1.5811\n",
      "6000 12% (0m 14s) 0.8422 arthā / Tolkien Elvish ✓\n",
      "Average loss: 1.4417\n",
      "8000 16% (0m 19s) 1.1221 while / English ✓\n",
      "Average loss: 1.3411\n",
      "10000 20% (0m 24s) 0.8238 cou / Simlish ✓\n",
      "Average loss: 1.2489\n",
      "12000 24% (0m 29s) 1.6356 organizzare / French ✗ (Italian)\n",
      "Average loss: 1.2247\n",
      "14000 28% (0m 34s) 0.7487 lotta / Italian ✓\n",
      "Average loss: 1.1755\n",
      "16000 32% (0m 39s) 1.7115 donde / Tolkien Elvish ✗ (Spanish)\n",
      "Average loss: 1.1263\n",
      "18000 36% (0m 44s) 0.1562 stīrē / Tolkien Elvish ✓\n",
      "Average loss: 1.0856\n",
      "20000 40% (0m 48s) 2.3949 rigelle / Italian ✗ (Tolkien Elvish)\n",
      "Average loss: 1.0619\n",
      "22000 44% (0m 53s) 0.2995 erhalten / German ✓\n",
      "Average loss: 1.1175\n",
      "24000 48% (0m 58s) 0.9763 raika / Simlish ✗ (Tolkien Elvish)\n",
      "Average loss: 1.0486\n",
      "26000 52% (1m 3s) 0.0012 Zahl / German ✓\n",
      "Average loss: 1.0350\n",
      "28000 56% (1m 8s) 3.4530 chose / English ✗ (French)\n",
      "Average loss: 1.0189\n",
      "30000 60% (1m 13s) 0.0000 Vortrag / German ✓\n",
      "Average loss: 1.0692\n",
      "32000 64% (1m 17s) 2.1283 jadosi / Italian ✗ (Simlish)\n",
      "Average loss: 1.0747\n",
      "34000 68% (1m 22s) 1.5284 pausa / Spanish ✗ (Italian)\n",
      "Average loss: 1.0264\n",
      "36000 72% (1m 26s) 1.8498 temperatura / Italian ✗ (Spanish)\n",
      "Average loss: 0.9692\n",
      "38000 76% (1m 31s) 0.3445 fly / English ✓\n",
      "Average loss: 0.9786\n",
      "40000 80% (1m 35s) 0.5890 sauter / French ✓\n",
      "Average loss: 0.9658\n",
      "42000 84% (1m 40s) 0.0000 Bauernhof / German ✓\n",
      "Average loss: 0.9391\n",
      "44000 88% (1m 44s) 1.4338 break / Simlish ✗ (English)\n",
      "Average loss: 0.9679\n",
      "46000 92% (1m 49s) 0.1328 gefunden / German ✓\n",
      "Average loss: 0.9496\n",
      "48000 96% (1m 54s) 1.1151 dear / Spanish ✗ (English)\n",
      "Average loss: 0.9403\n",
      "50000 100% (1m 58s) 1.5385 division / Spanish ✗ (English)\n",
      "Average loss: 1.0206\n"
     ]
    }
   ],
   "source": [
    "rnn = RNN(n_letters, n_hidden, n_languages)\n",
    "stop_words_included_losses = train_charRNN(n_iters, learning_rate, avg_loss_intervals)"
   ]
  },
  {
   "cell_type": "code",
   "execution_count": 20,
   "metadata": {},
   "outputs": [],
   "source": [
    "# plt.plot(stop_words_included_losses)\n",
    "# plt.xlabel('Training Iteration * {}'.format(int(n_iters / avg_loss_intervals)))\n",
    "# plt.ylabel('Average Loss per {} Iterations'.format(int(n_iters / avg_loss_intervals)))\n",
    "# plt.title('Average Loss for RNN Model Stopwords Included')\n",
    "# plt.show()"
   ]
  },
  {
   "cell_type": "code",
   "execution_count": 21,
   "metadata": {
    "scrolled": true
   },
   "outputs": [],
   "source": [
    "stop_words_included_train_acc = getAccuracy(train_data) * 100\n",
    "stop_words_included_test_acc = getAccuracy(test_data) * 100"
   ]
  },
  {
   "cell_type": "markdown",
   "metadata": {},
   "source": [
    "## Difficult Words Only"
   ]
  },
  {
   "cell_type": "code",
   "execution_count": 22,
   "metadata": {},
   "outputs": [
    {
     "name": "stdout",
     "output_type": "stream",
     "text": [
      "Number of Words per Language\n"
     ]
    },
    {
     "data": {
      "text/plain": [
       "Language\n",
       "English           882\n",
       "French            790\n",
       "German            862\n",
       "Italian           811\n",
       "Simlish           111\n",
       "Spanish           821\n",
       "Tolkien Elvish    893\n",
       "dtype: int64"
      ]
     },
     "execution_count": 22,
     "metadata": {},
     "output_type": "execute_result"
    }
   ],
   "source": [
    "csv_data = parseCSV('difficult_set.csv')\n",
    "train_data, test_data = train_test_split(csv_data, test_size=0.2)\n",
    "\n",
    "training_words = reformatData(train_data)\n",
    "testing_words = reformatData(test_data)\n",
    "\n",
    "all_languages = list(training_words.keys())\n",
    "n_languages = len(all_languages)\n",
    "\n",
    "print('Number of Words per Language')\n",
    "csv_data.groupby('Language').size()"
   ]
  },
  {
   "cell_type": "code",
   "execution_count": 23,
   "metadata": {},
   "outputs": [
    {
     "name": "stdout",
     "output_type": "stream",
     "text": [
      "2000 4% (0m 5s) 0.0319 Raum / German ✓\n",
      "Average loss: 1.7739\n",
      "4000 8% (0m 10s) 0.9094 strano / Italian ✓\n",
      "Average loss: 1.5751\n",
      "6000 12% (0m 15s) 1.1883 kat / Simlish ✓\n",
      "Average loss: 1.4483\n",
      "8000 16% (0m 19s) 1.1444 mī / Tolkien Elvish ✓\n",
      "Average loss: 1.3218\n",
      "10000 20% (0m 25s) 1.1495 patio / Italian ✗ (Spanish)\n",
      "Average loss: 1.2896\n",
      "12000 24% (0m 30s) 0.4113 dwam / Simlish ✓\n",
      "Average loss: 1.2217\n",
      "14000 28% (0m 35s) 0.5480 cima / Spanish ✓\n",
      "Average loss: 1.1422\n",
      "16000 32% (0m 40s) 1.3841 let / German ✗ (English)\n",
      "Average loss: 1.0767\n",
      "18000 36% (0m 45s) 1.1392 ilana / Simlish ✓\n",
      "Average loss: 1.0721\n",
      "20000 40% (0m 50s) 1.1818 différer / French ✓\n",
      "Average loss: 1.0996\n",
      "22000 44% (0m 55s) 0.1709 khādo / Tolkien Elvish ✓\n",
      "Average loss: 1.0058\n",
      "24000 48% (1m 0s) 1.1908 demás / Spanish ✓\n",
      "Average loss: 1.0158\n",
      "26000 52% (1m 6s) 0.5026 esclavo / Spanish ✓\n",
      "Average loss: 0.9683\n",
      "28000 56% (1m 11s) 1.5270 Absatz / Spanish ✗ (German)\n",
      "Average loss: 0.9619\n",
      "30000 60% (1m 15s) 0.3682 pezzo / Italian ✓\n",
      "Average loss: 0.9608\n",
      "32000 64% (1m 21s) 0.0105 awā-da / Tolkien Elvish ✓\n",
      "Average loss: 0.9685\n",
      "34000 68% (1m 25s) 1.2654 aws / Tolkien Elvish ✗ (Simlish)\n",
      "Average loss: 0.9428\n",
      "36000 72% (1m 30s) 0.6951 pato / Spanish ✓\n",
      "Average loss: 0.9573\n",
      "38000 76% (1m 35s) 1.0155 ni / Tolkien Elvish ✓\n",
      "Average loss: 0.9326\n",
      "40000 80% (1m 40s) 0.2857 estado / Spanish ✓\n",
      "Average loss: 0.9495\n",
      "42000 84% (1m 45s) 0.7600 le(n)dembassē / Tolkien Elvish ✓\n",
      "Average loss: 0.9057\n",
      "44000 88% (1m 50s) 0.5174 lento / Italian ✓\n",
      "Average loss: 0.9019\n",
      "46000 92% (1m 55s) 0.0593 wub mezino / Simlish ✓\n",
      "Average loss: 0.8818\n",
      "48000 96% (2m 1s) 0.3986 gleich / German ✓\n",
      "Average loss: 0.9512\n",
      "50000 100% (2m 6s) 0.0121 magtā- / Tolkien Elvish ✓\n",
      "Average loss: 0.8834\n"
     ]
    }
   ],
   "source": [
    "rnn = RNN(n_letters, n_hidden, n_languages)\n",
    "difficult_words_losses = train_charRNN(n_iters, learning_rate, avg_loss_intervals)"
   ]
  },
  {
   "cell_type": "code",
   "execution_count": 24,
   "metadata": {},
   "outputs": [],
   "source": [
    "# plt.plot(difficult_words_losses)\n",
    "# plt.xlabel('Training Iteration * {}'.format(int(n_iters / avg_loss_intervals)))\n",
    "# plt.ylabel('Average Loss per {} Iterations'.format(int(n_iters / avg_loss_intervals)))\n",
    "# plt.title('Average Loss for RNN Model Difficult Words')\n",
    "# plt.show()"
   ]
  },
  {
   "cell_type": "code",
   "execution_count": 25,
   "metadata": {
    "scrolled": true
   },
   "outputs": [],
   "source": [
    "difficult_words_only_train_acc = getAccuracy(train_data) * 100\n",
    "difficult_words_only_test_acc = getAccuracy(test_data) * 100"
   ]
  },
  {
   "cell_type": "markdown",
   "metadata": {},
   "source": [
    "# Results"
   ]
  },
  {
   "cell_type": "code",
   "execution_count": 28,
   "metadata": {},
   "outputs": [
    {
     "data": {
      "image/png": "[encoded data removed]",
      "text/plain": [
       "<Figure size 432x288 with 1 Axes>"
      ]
     },
     "metadata": {
      "needs_background": "light"
     },
     "output_type": "display_data"
    }
   ],
   "source": [
    "plt.plot(stop_words_excluded_losses)\n",
    "plt.plot(stop_words_included_losses)\n",
    "plt.plot(difficult_words_losses)\n",
    "plt.title('Model Training Loss')\n",
    "plt.xlabel('Training Iteration * {}'.format(int(n_iters / avg_loss_intervals)))\n",
    "plt.ylabel('Average Loss per {} Iterations'.format(int(n_iters / avg_loss_intervals)))\n",
    "plt.legend(['Stop Words Excluded', 'Stop Words Included', 'Difficult Words Only'], loc='upper right')\n",
    "plt.show()"
   ]
  },
  {
   "cell_type": "code",
   "execution_count": 29,
   "metadata": {},
   "outputs": [
    {
     "name": "stdout",
     "output_type": "stream",
     "text": [
      "stop words excluded training data accuracy: 60.9515%\n",
      "stop words excluded testing data accuracy: 53.2316%\n",
      "\n",
      "stop words included training data accuracy: 63.5096%\n",
      "stop words included testing data accuracy: 62.6145%\n",
      "\n",
      "difficult words only training data accuracy: 65.9333%\n",
      "difficult words only testing data accuracy: 59.3810%\n"
     ]
    }
   ],
   "source": [
    "print('stop words excluded training data accuracy: {:.4f}%'.format(stop_words_excluded_train_acc))\n",
    "print('stop words excluded testing data accuracy: {:.4f}%'.format(stop_words_excluded_test_acc))\n",
    "print()\n",
    "print('stop words included training data accuracy: {:.4f}%'.format(stop_words_included_train_acc))\n",
    "print('stop words included testing data accuracy: {:.4f}%'.format(stop_words_included_test_acc))\n",
    "print()\n",
    "print('difficult words only training data accuracy: {:.4f}%'.format(difficult_words_only_train_acc))\n",
    "print('difficult words only testing data accuracy: {:.4f}%'.format(difficult_words_only_test_acc))"
   ]
  },
  {
   "cell_type": "markdown",
   "metadata": {},
   "source": [
    "## Only Words Greater than Two Characters Long Included"
   ]
  },
  {
   "cell_type": "code",
   "execution_count": null,
   "metadata": {
    "scrolled": true
   },
   "outputs": [],
   "source": [
    "# csv_data = parseCSV('language_dataset_with_stopwords.csv')\n",
    "# filtered_data = csv_data[csv_data['Word'].apply(lambda x: len(x) > 2)]\n",
    "# train_data, test_data = train_test_split(filtered_data, test_size=0.2)\n",
    "\n",
    "# training_words = reformatData(train_data)\n",
    "# testing_words = reformatData(test_data)\n",
    "\n",
    "# all_languages = list(training_words.keys())\n",
    "# n_languages = len(all_languages)\n",
    "\n",
    "# print('Number of Words per Language')\n",
    "# filtered_data.groupby('Language').size()"
   ]
  },
  {
   "cell_type": "code",
   "execution_count": null,
   "metadata": {},
   "outputs": [],
   "source": [
    "# rnn = RNN(n_letters, n_hidden, n_languages)\n",
    "# losses = train_charRNN(n_iters, learning_rate, avg_loss_intervals)"
   ]
  },
  {
   "cell_type": "code",
   "execution_count": null,
   "metadata": {},
   "outputs": [],
   "source": [
    "# plt.plot(losses)\n",
    "# plt.xlabel('Training Iteration * {}'.format(int(n_iters / avg_loss_intervals)))\n",
    "# plt.ylabel('Average Loss per {} Iterations'.format(int(n_iters / avg_loss_intervals)))\n",
    "# plt.title('Average Loss for RNN Model Only Words Greater than 2 Char Long')\n",
    "# plt.show()"
   ]
  },
  {
   "cell_type": "code",
   "execution_count": null,
   "metadata": {},
   "outputs": [],
   "source": [
    "# print('training data accuracy: {:.4f}%'.format(getAccuracy(train_data) * 100))\n",
    "# print('testing data accuracy: {:.4f}%'.format(getAccuracy(test_data) * 100))"
   ]
  },
  {
   "cell_type": "markdown",
   "metadata": {},
   "source": [
    "## Only Words Greater than Three Characters Long Included"
   ]
  },
  {
   "cell_type": "code",
   "execution_count": null,
   "metadata": {},
   "outputs": [],
   "source": [
    "# csv_data = parseCSV('language_dataset_with_stopwords.csv')\n",
    "# filtered_data = csv_data[csv_data['Word'].apply(lambda x: len(x) > 3)]\n",
    "# train_data, test_data = train_test_split(filtered_data, test_size=0.2)\n",
    "\n",
    "# training_words = reformatData(train_data)\n",
    "# testing_words = reformatData(test_data)\n",
    "\n",
    "# all_languages = list(training_words.keys())\n",
    "# n_languages = len(all_languages)\n",
    "\n",
    "# print('Number of Words per Language')\n",
    "# filtered_data.groupby('Language').size()"
   ]
  },
  {
   "cell_type": "code",
   "execution_count": null,
   "metadata": {},
   "outputs": [],
   "source": [
    "# rnn = RNN(n_letters, n_hidden, n_languages)\n",
    "# losses = train_charRNN(n_iters, learning_rate, avg_loss_intervals)"
   ]
  },
  {
   "cell_type": "code",
   "execution_count": null,
   "metadata": {},
   "outputs": [],
   "source": [
    "# plt.plot(losses)\n",
    "# plt.xlabel('Training Iteration * {}'.format(int(n_iters / avg_loss_intervals)))\n",
    "# plt.ylabel('Average Loss per {} Iterations'.format(int(n_iters / avg_loss_intervals)))\n",
    "# plt.title('Average Loss for RNN Model Only Words Greater than 3 Char Long')\n",
    "# plt.show()"
   ]
  },
  {
   "cell_type": "code",
   "execution_count": null,
   "metadata": {},
   "outputs": [],
   "source": [
    "# print('training data accuracy: {:.4f}%'.format(getAccuracy(train_data) * 100))\n",
    "# print('testing data accuracy: {:.4f}%'.format(getAccuracy(test_data) * 100))"
   ]
  }
 ],
 "metadata": {
  "kernelspec": {
   "display_name": "Python 3",
   "language": "python",
   "name": "python3"
  },
  "language_info": {
   "codemirror_mode": {
    "name": "ipython",
    "version": 3
   },
   "file_extension": ".py",
   "mimetype": "text/x-python",
   "name": "python",
   "nbconvert_exporter": "python",
   "pygments_lexer": "ipython3",
   "version": "3.7.4"
  }
 },
 "nbformat": 4,
 "nbformat_minor": 2
}
