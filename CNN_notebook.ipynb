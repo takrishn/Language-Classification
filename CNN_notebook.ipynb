{
 "cells": [
  {
   "cell_type": "code",
   "execution_count": 1,
   "metadata": {},
   "outputs": [
    {
     "name": "stderr",
     "output_type": "stream",
     "text": [
      "Using TensorFlow backend.\n"
     ]
    }
   ],
   "source": [
    "import numpy as np\n",
    "import pandas as pd\n",
    "\n",
    "from keras.preprocessing.text import Tokenizer\n",
    "from keras.preprocessing.sequence import pad_sequences\n",
    "from sklearn.model_selection import train_test_split\n",
    "from keras.layers import Input, Embedding, Activation, Flatten, Dense\n",
    "from keras.layers import Conv1D, MaxPooling1D, Dropout\n",
    "from keras.models import Model\n",
    "from keras.utils import to_categorical\n",
    "from matplotlib import pyplot as plt"
   ]
  },
  {
   "cell_type": "markdown",
   "metadata": {},
   "source": [
    "# Data Setup"
   ]
  },
  {
   "cell_type": "code",
   "execution_count": 2,
   "metadata": {},
   "outputs": [],
   "source": [
    "def parseCSV(file):\n",
    "    data = pd.read_csv(file)\n",
    "    data = data\n",
    "    data[\"Word\"]= data[\"Word\"].str.lower()\n",
    "    data['Index'] = np.arange(len(data))\n",
    "    return data[['Word', 'Language', \"Index\"]]"
   ]
  },
  {
   "cell_type": "code",
   "execution_count": 3,
   "metadata": {},
   "outputs": [],
   "source": [
    "class CNN():\n",
    "    def __init__(self, train_data_source, test_data_source):\n",
    "        self.train_df = train_data_source\n",
    "        self.test_df = test_data_source\n",
    "\n",
    "        self.x_train = np.array(self.train_df[\"Word\"])\n",
    "        self.x_test = np.array(self.test_df[\"Word\"])\n",
    "\n",
    "        CHAR_STRING = 'abcdefghijklmnopqrstuvwxyzáéíóúüñàèìòùçâêîôûëïäöß()-āēīōū’ā̆ē̆ī̆ō̆ăĭḗū́u̯ṇ̃þʒ¹²/\\ :;\"!?¿¡\".'\n",
    "        char_dict = {}\n",
    "\n",
    "        for i, char, in enumerate(CHAR_STRING):\n",
    "            char_dict[char] = i + 1\n",
    "\n",
    "        #print(char_dict)\n",
    "\n",
    "        self.tk = Tokenizer(num_words=None, char_level=True, oov_token='UNK')\n",
    "        self.tk.fit_on_texts(self.x_train)\n",
    "\n",
    "        self.tk.word_index = char_dict.copy()\n",
    "        self.tk.word_index[self.tk.oov_token] = max(char_dict.values()) + 1\n",
    "\n",
    "        train_sequences = self.tk.texts_to_sequences(self.x_train)\n",
    "        test_texts = self.tk.texts_to_sequences(self.x_test)\n",
    "\n",
    "        #print(tk.word_index)\n",
    "\n",
    "        # Padding\n",
    "        train_data = pad_sequences(train_sequences, maxlen=1014, padding='post')\n",
    "        test_data = pad_sequences(test_texts, maxlen=1014, padding='post')\n",
    "\n",
    "        # Convert to numpy array\n",
    "        train_data = np.array(train_data, dtype='float32')\n",
    "        test_data = np.array(test_data, dtype='float32')\n",
    "\n",
    "        self.class2indexes = dict((l, i) for i, l in enumerate(set(self.train_df[\"Language\"])))\n",
    "        self.index2class = dict((i, l) for i, l in enumerate(set(self.train_df[\"Language\"])))\n",
    "\n",
    "#         print(self.class2indexes)\n",
    "\n",
    "        train_classes = self.train_df[\"Language\"]\n",
    "        train_class_list = [self.class2indexes[x] for x in train_classes]\n",
    "\n",
    "        test_classes = self.test_df[\"Language\"]\n",
    "        test_class_list = [self.class2indexes[x] for x in test_classes]\n",
    "\n",
    "        train_classes = to_categorical(train_class_list)\n",
    "        test_classes = to_categorical(test_class_list) #converts class to binary class martix \n",
    "\n",
    "        vocab_size = 93\n",
    "#         print(vocab_size)\n",
    "\n",
    "        embedding_weights = [] \n",
    "        embedding_weights.append(np.zeros(vocab_size))\n",
    "\n",
    "        for i in range(vocab_size):\n",
    "            onehot = np.zeros(vocab_size)\n",
    "            onehot[i] = 1\n",
    "            embedding_weights.append(onehot)\n",
    "\n",
    "\n",
    "        embedding_weights = np.array(embedding_weights)\n",
    "        # print(embedding_weights.shape)\n",
    "        # print(embedding_weights)\n",
    "#         print('Load')\n",
    "\n",
    "        # Model Construction\n",
    "\n",
    "        #parameters\n",
    "        input_size = 1014\n",
    "        embedding_size = 93\n",
    "        conv_layers = [[256, 7, 3],\n",
    "                        [256, 7, 3],\n",
    "                        [256, 3, -1],\n",
    "                        [256, 3, -1],\n",
    "                        [256, 3, -1],\n",
    "                        [256, 3, 3]]\n",
    "\n",
    "        fully_connected_layers = [1024,1024]\n",
    "        nums_of_classes = 7\n",
    "        dropout_p = 0.5\n",
    "        optimizer = \"adam\"\n",
    "        loss = \"categorical_crossentropy\"\n",
    "\n",
    "        # Embedding layer Initialization\n",
    "        embedding_layer = Embedding(vocab_size + 1, embedding_size,\n",
    "                                    input_length=input_size,\n",
    "                                    weights=[embedding_weights])\n",
    "\n",
    "\n",
    "        # Input\n",
    "        inputs = Input(shape=(input_size,), \n",
    "                    name='input', dtype='int64')  # shape=(?, 1014)\n",
    "\n",
    "        x = embedding_layer(inputs)\n",
    "        #conv \n",
    "        for filter_num, filter_size, pooling_size in conv_layers:\n",
    "            x = Conv1D(filter_num, filter_size)(x) #data_format = 'channels_first'\n",
    "            x = Activation('relu')(x)\n",
    "            if pooling_size != -1:\n",
    "                x = MaxPooling1D(pool_size=pooling_size)(x) #prevents overfitting\n",
    "        x = Flatten()(x) #turns in a martix into a 1D array \n",
    "        #Fully connected layers\n",
    "        for dense_size in fully_connected_layers:\n",
    "            x = Dense(dense_size, activation='relu')(x)\n",
    "            x = Dropout(dropout_p)(x) #help reduce overfitting\n",
    "\n",
    "        #Output Layer\n",
    "        predictions = Dense(nums_of_classes, activation='softmax')(x)\n",
    "        #Build Model\n",
    "        self.model = Model(input=inputs, outputs=predictions)\n",
    "        self.model.compile(optimizer=optimizer, loss=loss)\n",
    "        self.model.summary()\n",
    "\n",
    "        self.history = self.model.fit(train_data, train_classes, validation_data=(test_data, test_classes), \n",
    "                       batch_size=128, epochs=10, verbose=2)\n",
    "        \n",
    "    def predict(self, x_df): #used to be false \n",
    "        total_words = len(x_df.index)\n",
    "        correct_predictions = 0\n",
    "        \n",
    "        x_test = np.array(x_df[\"Word\"])\n",
    "        test_texts = self.tk.texts_to_sequences(x_test)\n",
    "        test_data = pad_sequences(test_texts, maxlen=1014, padding='post')\n",
    "        test_data = np.array(test_data, dtype='float32')\n",
    "        predictions = self.model.predict(test_data)\n",
    "        predict_results = predictions.argmax(axis=-1)\n",
    "        \n",
    "        for i in range(len(predict_results)):\n",
    "#             index = x_df[\"Index\"][i]\n",
    "            answer = x_df.iloc[i]['Language']\n",
    "        \n",
    "#             print(self.test_df[\"Word\"][index])\n",
    "            if answer == self.index2class[predict_results[i]]:\n",
    "                correct_predictions += 1\n",
    "#             print(\"Language: \", self.index2class[predict_results[i]])\n",
    "#             print(\"Probability: \", predictions[i][predict_results[i]])\n",
    "                \n",
    "        return correct_predictions / total_words"
   ]
  },
  {
   "cell_type": "markdown",
   "metadata": {},
   "source": [
    "## Stopwords Excluded"
   ]
  },
  {
   "cell_type": "code",
   "execution_count": 4,
   "metadata": {},
   "outputs": [
    {
     "name": "stdout",
     "output_type": "stream",
     "text": [
      "Number of Words per Language\n"
     ]
    },
    {
     "data": {
      "text/plain": [
       "Language\n",
       "English           898\n",
       "French            942\n",
       "German            884\n",
       "Italian           940\n",
       "Simlish           111\n",
       "Spanish           919\n",
       "Tolkien Elvish    876\n",
       "dtype: int64"
      ]
     },
     "execution_count": 4,
     "metadata": {},
     "output_type": "execute_result"
    }
   ],
   "source": [
    "csv_data = parseCSV('language_dataset.csv')\n",
    "\n",
    "csv_data[\"Word\"]= csv_data[\"Word\"].str.lower() \n",
    "train_data, test_data = train_test_split(csv_data, test_size=0.2)\n",
    "\n",
    "print('Number of Words per Language')\n",
    "csv_data.groupby('Language').size()"
   ]
  },
  {
   "cell_type": "code",
   "execution_count": 5,
   "metadata": {},
   "outputs": [
    {
     "name": "stderr",
     "output_type": "stream",
     "text": [
      "C:\\ProgramData\\Anaconda3\\lib\\site-packages\\ipykernel_launcher.py:111: UserWarning: Update your `Model` call to the Keras 2 API: `Model(outputs=Tensor(\"de..., inputs=Tensor(\"in...)`\n"
     ]
    },
    {
     "name": "stdout",
     "output_type": "stream",
     "text": [
      "Model: \"model_1\"\n",
      "_________________________________________________________________\n",
      "Layer (type)                 Output Shape              Param #   \n",
      "=================================================================\n",
      "input (InputLayer)           (None, 1014)              0         \n",
      "_________________________________________________________________\n",
      "embedding_1 (Embedding)      (None, 1014, 93)          8742      \n",
      "_________________________________________________________________\n",
      "conv1d_1 (Conv1D)            (None, 1008, 256)         166912    \n",
      "_________________________________________________________________\n",
      "activation_1 (Activation)    (None, 1008, 256)         0         \n",
      "_________________________________________________________________\n",
      "max_pooling1d_1 (MaxPooling1 (None, 336, 256)          0         \n",
      "_________________________________________________________________\n",
      "conv1d_2 (Conv1D)            (None, 330, 256)          459008    \n",
      "_________________________________________________________________\n",
      "activation_2 (Activation)    (None, 330, 256)          0         \n",
      "_________________________________________________________________\n",
      "max_pooling1d_2 (MaxPooling1 (None, 110, 256)          0         \n",
      "_________________________________________________________________\n",
      "conv1d_3 (Conv1D)            (None, 108, 256)          196864    \n",
      "_________________________________________________________________\n",
      "activation_3 (Activation)    (None, 108, 256)          0         \n",
      "_________________________________________________________________\n",
      "conv1d_4 (Conv1D)            (None, 106, 256)          196864    \n",
      "_________________________________________________________________\n",
      "activation_4 (Activation)    (None, 106, 256)          0         \n",
      "_________________________________________________________________\n",
      "conv1d_5 (Conv1D)            (None, 104, 256)          196864    \n",
      "_________________________________________________________________\n",
      "activation_5 (Activation)    (None, 104, 256)          0         \n",
      "_________________________________________________________________\n",
      "conv1d_6 (Conv1D)            (None, 102, 256)          196864    \n",
      "_________________________________________________________________\n",
      "activation_6 (Activation)    (None, 102, 256)          0         \n",
      "_________________________________________________________________\n",
      "max_pooling1d_3 (MaxPooling1 (None, 34, 256)           0         \n",
      "_________________________________________________________________\n",
      "flatten_1 (Flatten)          (None, 8704)              0         \n",
      "_________________________________________________________________\n",
      "dense_1 (Dense)              (None, 1024)              8913920   \n",
      "_________________________________________________________________\n",
      "dropout_1 (Dropout)          (None, 1024)              0         \n",
      "_________________________________________________________________\n",
      "dense_2 (Dense)              (None, 1024)              1049600   \n",
      "_________________________________________________________________\n",
      "dropout_2 (Dropout)          (None, 1024)              0         \n",
      "_________________________________________________________________\n",
      "dense_3 (Dense)              (None, 7)                 7175      \n",
      "=================================================================\n",
      "Total params: 11,392,813\n",
      "Trainable params: 11,392,813\n",
      "Non-trainable params: 0\n",
      "_________________________________________________________________\n"
     ]
    },
    {
     "name": "stderr",
     "output_type": "stream",
     "text": [
      "C:\\Users\\takri\\AppData\\Roaming\\Python\\Python37\\site-packages\\tensorflow_core\\python\\framework\\indexed_slices.py:433: UserWarning: Converting sparse IndexedSlices to a dense Tensor of unknown shape. This may consume a large amount of memory.\n",
      "  \"Converting sparse IndexedSlices to a dense Tensor of unknown shape. \"\n"
     ]
    },
    {
     "name": "stdout",
     "output_type": "stream",
     "text": [
      "Train on 4456 samples, validate on 1114 samples\n",
      "Epoch 1/10\n",
      " - 70s - loss: 1.8656 - val_loss: 1.7840\n",
      "Epoch 2/10\n",
      " - 66s - loss: 1.6144 - val_loss: 1.4259\n",
      "Epoch 3/10\n",
      " - 67s - loss: 1.3522 - val_loss: 1.2551\n",
      "Epoch 4/10\n",
      " - 70s - loss: 1.1905 - val_loss: 1.2051\n",
      "Epoch 5/10\n",
      " - 67s - loss: 1.1273 - val_loss: 1.1514\n",
      "Epoch 6/10\n",
      " - 67s - loss: 1.0738 - val_loss: 1.2605\n",
      "Epoch 7/10\n",
      " - 69s - loss: 0.9690 - val_loss: 1.2199\n",
      "Epoch 8/10\n",
      " - 65s - loss: 0.9171 - val_loss: 1.3344\n",
      "Epoch 9/10\n",
      " - 66s - loss: 0.8809 - val_loss: 1.2455\n",
      "Epoch 10/10\n",
      " - 66s - loss: 0.8162 - val_loss: 1.2663\n"
     ]
    }
   ],
   "source": [
    "stop_words_excluded_cnn = CNN(train_data, test_data)"
   ]
  },
  {
   "cell_type": "code",
   "execution_count": 6,
   "metadata": {},
   "outputs": [],
   "source": [
    "stop_words_excluded_test_acc = stop_words_excluded_cnn.predict(test_data)\n",
    "stop_words_excluded_train_acc = stop_words_excluded_cnn.predict(train_data)"
   ]
  },
  {
   "cell_type": "code",
   "execution_count": 7,
   "metadata": {},
   "outputs": [
    {
     "data": {
      "image/png": "[encoded data removed]",
      "text/plain": [
       "<Figure size 432x288 with 1 Axes>"
      ]
     },
     "metadata": {
      "needs_background": "light"
     },
     "output_type": "display_data"
    }
   ],
   "source": [
    "# Plot training & validation loss values\n",
    "plt.plot(stop_words_excluded_cnn.history.history['loss'])\n",
    "plt.plot(stop_words_excluded_cnn.history.history['val_loss'])\n",
    "plt.title('Stop Words Excluded Model loss')\n",
    "plt.ylabel('Loss')\n",
    "plt.xlabel('Epoch')\n",
    "plt.legend(['Train', 'Test'], loc='upper right')\n",
    "plt.show()"
   ]
  },
  {
   "cell_type": "markdown",
   "metadata": {},
   "source": [
    "## Stopwords Included"
   ]
  },
  {
   "cell_type": "code",
   "execution_count": 8,
   "metadata": {},
   "outputs": [
    {
     "name": "stdout",
     "output_type": "stream",
     "text": [
      "Number of Words per Language\n"
     ]
    },
    {
     "data": {
      "text/plain": [
       "Language\n",
       "English           1000\n",
       "French            1000\n",
       "German            1000\n",
       "Italian           1000\n",
       "Simlish            111\n",
       "Spanish           1000\n",
       "Tolkien Elvish     894\n",
       "dtype: int64"
      ]
     },
     "execution_count": 8,
     "metadata": {},
     "output_type": "execute_result"
    }
   ],
   "source": [
    "csv_data = parseCSV('language_dataset_with_stopwords.csv')\n",
    "\n",
    "csv_data[\"Word\"]= csv_data[\"Word\"].str.lower() \n",
    "train_data, test_data = train_test_split(csv_data, test_size=0.2)\n",
    "\n",
    "print('Number of Words per Language')\n",
    "csv_data.groupby('Language').size()"
   ]
  },
  {
   "cell_type": "code",
   "execution_count": 9,
   "metadata": {},
   "outputs": [
    {
     "name": "stderr",
     "output_type": "stream",
     "text": [
      "C:\\ProgramData\\Anaconda3\\lib\\site-packages\\ipykernel_launcher.py:111: UserWarning: Update your `Model` call to the Keras 2 API: `Model(outputs=Tensor(\"de..., inputs=Tensor(\"in...)`\n",
      "C:\\Users\\takri\\AppData\\Roaming\\Python\\Python37\\site-packages\\tensorflow_core\\python\\framework\\indexed_slices.py:433: UserWarning: Converting sparse IndexedSlices to a dense Tensor of unknown shape. This may consume a large amount of memory.\n",
      "  \"Converting sparse IndexedSlices to a dense Tensor of unknown shape. \"\n"
     ]
    },
    {
     "name": "stdout",
     "output_type": "stream",
     "text": [
      "Model: \"model_2\"\n",
      "_________________________________________________________________\n",
      "Layer (type)                 Output Shape              Param #   \n",
      "=================================================================\n",
      "input (InputLayer)           (None, 1014)              0         \n",
      "_________________________________________________________________\n",
      "embedding_2 (Embedding)      (None, 1014, 93)          8742      \n",
      "_________________________________________________________________\n",
      "conv1d_7 (Conv1D)            (None, 1008, 256)         166912    \n",
      "_________________________________________________________________\n",
      "activation_7 (Activation)    (None, 1008, 256)         0         \n",
      "_________________________________________________________________\n",
      "max_pooling1d_4 (MaxPooling1 (None, 336, 256)          0         \n",
      "_________________________________________________________________\n",
      "conv1d_8 (Conv1D)            (None, 330, 256)          459008    \n",
      "_________________________________________________________________\n",
      "activation_8 (Activation)    (None, 330, 256)          0         \n",
      "_________________________________________________________________\n",
      "max_pooling1d_5 (MaxPooling1 (None, 110, 256)          0         \n",
      "_________________________________________________________________\n",
      "conv1d_9 (Conv1D)            (None, 108, 256)          196864    \n",
      "_________________________________________________________________\n",
      "activation_9 (Activation)    (None, 108, 256)          0         \n",
      "_________________________________________________________________\n",
      "conv1d_10 (Conv1D)           (None, 106, 256)          196864    \n",
      "_________________________________________________________________\n",
      "activation_10 (Activation)   (None, 106, 256)          0         \n",
      "_________________________________________________________________\n",
      "conv1d_11 (Conv1D)           (None, 104, 256)          196864    \n",
      "_________________________________________________________________\n",
      "activation_11 (Activation)   (None, 104, 256)          0         \n",
      "_________________________________________________________________\n",
      "conv1d_12 (Conv1D)           (None, 102, 256)          196864    \n",
      "_________________________________________________________________\n",
      "activation_12 (Activation)   (None, 102, 256)          0         \n",
      "_________________________________________________________________\n",
      "max_pooling1d_6 (MaxPooling1 (None, 34, 256)           0         \n",
      "_________________________________________________________________\n",
      "flatten_2 (Flatten)          (None, 8704)              0         \n",
      "_________________________________________________________________\n",
      "dense_4 (Dense)              (None, 1024)              8913920   \n",
      "_________________________________________________________________\n",
      "dropout_3 (Dropout)          (None, 1024)              0         \n",
      "_________________________________________________________________\n",
      "dense_5 (Dense)              (None, 1024)              1049600   \n",
      "_________________________________________________________________\n",
      "dropout_4 (Dropout)          (None, 1024)              0         \n",
      "_________________________________________________________________\n",
      "dense_6 (Dense)              (None, 7)                 7175      \n",
      "=================================================================\n",
      "Total params: 11,392,813\n",
      "Trainable params: 11,392,813\n",
      "Non-trainable params: 0\n",
      "_________________________________________________________________\n",
      "Train on 4804 samples, validate on 1201 samples\n",
      "Epoch 1/10\n",
      " - 72s - loss: 1.8487 - val_loss: 1.6961\n",
      "Epoch 2/10\n",
      " - 70s - loss: 1.6033 - val_loss: 1.4589\n",
      "Epoch 3/10\n",
      " - 69s - loss: 1.3999 - val_loss: 1.3776\n",
      "Epoch 4/10\n",
      " - 68s - loss: 1.2422 - val_loss: 1.2314\n",
      "Epoch 5/10\n",
      " - 70s - loss: 1.1506 - val_loss: 1.1856\n",
      "Epoch 6/10\n",
      " - 69s - loss: 1.0769 - val_loss: 1.2664\n",
      "Epoch 7/10\n",
      " - 70s - loss: 1.0250 - val_loss: 1.2948\n",
      "Epoch 8/10\n",
      " - 73s - loss: 0.9563 - val_loss: 1.1403\n",
      "Epoch 9/10\n",
      " - 65s - loss: 0.8721 - val_loss: 1.1370\n",
      "Epoch 10/10\n",
      " - 62s - loss: 0.8300 - val_loss: 1.2081\n"
     ]
    }
   ],
   "source": [
    "stop_words_included_cnn = CNN(train_data, test_data)"
   ]
  },
  {
   "cell_type": "code",
   "execution_count": 10,
   "metadata": {},
   "outputs": [],
   "source": [
    "stop_words_included_test_acc = stop_words_included_cnn.predict(test_data)\n",
    "stop_words_included_train_acc = stop_words_included_cnn.predict(train_data)"
   ]
  },
  {
   "cell_type": "code",
   "execution_count": 11,
   "metadata": {},
   "outputs": [
    {
     "data": {
      "image/png": "[encoded data removed]",
      "text/plain": [
       "<Figure size 432x288 with 1 Axes>"
      ]
     },
     "metadata": {
      "needs_background": "light"
     },
     "output_type": "display_data"
    }
   ],
   "source": [
    "# Plot training & validation loss values\n",
    "plt.plot(stop_words_included_cnn.history.history['loss'])\n",
    "plt.plot(stop_words_included_cnn.history.history['val_loss'])\n",
    "plt.title('Stop Words Included Model loss')\n",
    "plt.ylabel('Loss')\n",
    "plt.xlabel('Epoch')\n",
    "plt.legend(['Train', 'Test'], loc='upper right')\n",
    "plt.show()"
   ]
  },
  {
   "cell_type": "markdown",
   "metadata": {},
   "source": [
    "## Difficult Words Only"
   ]
  },
  {
   "cell_type": "code",
   "execution_count": 12,
   "metadata": {},
   "outputs": [
    {
     "name": "stdout",
     "output_type": "stream",
     "text": [
      "Number of Words per Language\n"
     ]
    },
    {
     "data": {
      "text/plain": [
       "Language\n",
       "English           882\n",
       "French            790\n",
       "German            862\n",
       "Italian           811\n",
       "Simlish           111\n",
       "Spanish           821\n",
       "Tolkien Elvish    893\n",
       "dtype: int64"
      ]
     },
     "execution_count": 12,
     "metadata": {},
     "output_type": "execute_result"
    }
   ],
   "source": [
    "csv_data = parseCSV('Difficult_Set.csv')\n",
    "\n",
    "csv_data[\"Word\"]= csv_data[\"Word\"].str.lower() \n",
    "train_data, test_data = train_test_split(csv_data, test_size=0.2)\n",
    "\n",
    "print('Number of Words per Language')\n",
    "csv_data.groupby('Language').size()"
   ]
  },
  {
   "cell_type": "code",
   "execution_count": 13,
   "metadata": {},
   "outputs": [
    {
     "name": "stderr",
     "output_type": "stream",
     "text": [
      "C:\\ProgramData\\Anaconda3\\lib\\site-packages\\ipykernel_launcher.py:111: UserWarning: Update your `Model` call to the Keras 2 API: `Model(outputs=Tensor(\"de..., inputs=Tensor(\"in...)`\n",
      "C:\\Users\\takri\\AppData\\Roaming\\Python\\Python37\\site-packages\\tensorflow_core\\python\\framework\\indexed_slices.py:433: UserWarning: Converting sparse IndexedSlices to a dense Tensor of unknown shape. This may consume a large amount of memory.\n",
      "  \"Converting sparse IndexedSlices to a dense Tensor of unknown shape. \"\n"
     ]
    },
    {
     "name": "stdout",
     "output_type": "stream",
     "text": [
      "Model: \"model_3\"\n",
      "_________________________________________________________________\n",
      "Layer (type)                 Output Shape              Param #   \n",
      "=================================================================\n",
      "input (InputLayer)           (None, 1014)              0         \n",
      "_________________________________________________________________\n",
      "embedding_3 (Embedding)      (None, 1014, 93)          8742      \n",
      "_________________________________________________________________\n",
      "conv1d_13 (Conv1D)           (None, 1008, 256)         166912    \n",
      "_________________________________________________________________\n",
      "activation_13 (Activation)   (None, 1008, 256)         0         \n",
      "_________________________________________________________________\n",
      "max_pooling1d_7 (MaxPooling1 (None, 336, 256)          0         \n",
      "_________________________________________________________________\n",
      "conv1d_14 (Conv1D)           (None, 330, 256)          459008    \n",
      "_________________________________________________________________\n",
      "activation_14 (Activation)   (None, 330, 256)          0         \n",
      "_________________________________________________________________\n",
      "max_pooling1d_8 (MaxPooling1 (None, 110, 256)          0         \n",
      "_________________________________________________________________\n",
      "conv1d_15 (Conv1D)           (None, 108, 256)          196864    \n",
      "_________________________________________________________________\n",
      "activation_15 (Activation)   (None, 108, 256)          0         \n",
      "_________________________________________________________________\n",
      "conv1d_16 (Conv1D)           (None, 106, 256)          196864    \n",
      "_________________________________________________________________\n",
      "activation_16 (Activation)   (None, 106, 256)          0         \n",
      "_________________________________________________________________\n",
      "conv1d_17 (Conv1D)           (None, 104, 256)          196864    \n",
      "_________________________________________________________________\n",
      "activation_17 (Activation)   (None, 104, 256)          0         \n",
      "_________________________________________________________________\n",
      "conv1d_18 (Conv1D)           (None, 102, 256)          196864    \n",
      "_________________________________________________________________\n",
      "activation_18 (Activation)   (None, 102, 256)          0         \n",
      "_________________________________________________________________\n",
      "max_pooling1d_9 (MaxPooling1 (None, 34, 256)           0         \n",
      "_________________________________________________________________\n",
      "flatten_3 (Flatten)          (None, 8704)              0         \n",
      "_________________________________________________________________\n",
      "dense_7 (Dense)              (None, 1024)              8913920   \n",
      "_________________________________________________________________\n",
      "dropout_5 (Dropout)          (None, 1024)              0         \n",
      "_________________________________________________________________\n",
      "dense_8 (Dense)              (None, 1024)              1049600   \n",
      "_________________________________________________________________\n",
      "dropout_6 (Dropout)          (None, 1024)              0         \n",
      "_________________________________________________________________\n",
      "dense_9 (Dense)              (None, 7)                 7175      \n",
      "=================================================================\n",
      "Total params: 11,392,813\n",
      "Trainable params: 11,392,813\n",
      "Non-trainable params: 0\n",
      "_________________________________________________________________\n",
      "Train on 4136 samples, validate on 1034 samples\n",
      "Epoch 1/10\n",
      " - 54s - loss: 1.8718 - val_loss: 1.8081\n",
      "Epoch 2/10\n",
      " - 53s - loss: 1.6501 - val_loss: 1.5675\n",
      "Epoch 3/10\n",
      " - 52s - loss: 1.3732 - val_loss: 1.3518\n",
      "Epoch 4/10\n",
      " - 52s - loss: 1.1835 - val_loss: 1.2696\n",
      "Epoch 5/10\n",
      " - 52s - loss: 1.0884 - val_loss: 1.2976\n",
      "Epoch 6/10\n",
      " - 52s - loss: 1.0230 - val_loss: 1.2515\n",
      "Epoch 7/10\n",
      " - 52s - loss: 0.9508 - val_loss: 1.3554\n",
      "Epoch 8/10\n",
      " - 52s - loss: 0.9524 - val_loss: 1.2631\n",
      "Epoch 9/10\n",
      " - 52s - loss: 0.8637 - val_loss: 1.3055\n",
      "Epoch 10/10\n",
      " - 52s - loss: 0.7818 - val_loss: 1.3318\n"
     ]
    }
   ],
   "source": [
    "difficult_words_only_cnn = CNN(train_data, test_data)"
   ]
  },
  {
   "cell_type": "code",
   "execution_count": 14,
   "metadata": {},
   "outputs": [],
   "source": [
    "difficult_words_only_test_acc = difficult_words_only_cnn.predict(test_data)\n",
    "difficult_words_only_train_acc = difficult_words_only_cnn.predict(train_data)"
   ]
  },
  {
   "cell_type": "code",
   "execution_count": 15,
   "metadata": {},
   "outputs": [
    {
     "data": {
      "image/png": "[encoded data removed]",
      "text/plain": [
       "<Figure size 432x288 with 1 Axes>"
      ]
     },
     "metadata": {
      "needs_background": "light"
     },
     "output_type": "display_data"
    }
   ],
   "source": [
    "# Plot training & validation loss values\n",
    "plt.plot(difficult_words_only_cnn.history.history['loss'])\n",
    "plt.plot(difficult_words_only_cnn.history.history['val_loss'])\n",
    "plt.title('Difficult Words Only Model loss')\n",
    "plt.ylabel('Loss')\n",
    "plt.xlabel('Epoch')\n",
    "plt.legend(['Train', 'Test'], loc='upper right')\n",
    "plt.show()"
   ]
  },
  {
   "cell_type": "markdown",
   "metadata": {},
   "source": [
    "# Results"
   ]
  },
  {
   "cell_type": "code",
   "execution_count": 16,
   "metadata": {},
   "outputs": [
    {
     "data": {
      "image/png": "[encoded data removed]",
      "text/plain": [
       "<Figure size 432x288 with 1 Axes>"
      ]
     },
     "metadata": {
      "needs_background": "light"
     },
     "output_type": "display_data"
    }
   ],
   "source": [
    "plt.plot(stop_words_excluded_cnn.history.history['loss'])\n",
    "plt.plot(stop_words_included_cnn.history.history['loss'])\n",
    "plt.plot(difficult_words_only_cnn.history.history['loss'])\n",
    "\n",
    "plt.title('Model Training Loss')\n",
    "plt.ylabel('Loss')\n",
    "plt.xlabel('Epoch')\n",
    "\n",
    "plt.legend(['Stop Words Excluded', 'Stop Words Included', 'Difficult Words Only'], loc='upper right')\n",
    "plt.show()"
   ]
  },
  {
   "cell_type": "code",
   "execution_count": 17,
   "metadata": {},
   "outputs": [
    {
     "data": {
      "image/png": "[encoded data removed]",
      "text/plain": [
       "<Figure size 432x288 with 1 Axes>"
      ]
     },
     "metadata": {
      "needs_background": "light"
     },
     "output_type": "display_data"
    }
   ],
   "source": [
    "plt.plot(stop_words_excluded_cnn.history.history['val_loss'])\n",
    "plt.plot(stop_words_included_cnn.history.history['val_loss'])\n",
    "plt.plot(difficult_words_only_cnn.history.history['val_loss'])\n",
    "\n",
    "plt.title('Model Validation Loss')\n",
    "plt.ylabel('Loss')\n",
    "plt.xlabel('Epoch')\n",
    "\n",
    "plt.legend(['Stop Words Excluded', 'Stop Words Included', 'Difficult Words Only'], loc='upper right')\n",
    "plt.show()"
   ]
  },
  {
   "cell_type": "code",
   "execution_count": 18,
   "metadata": {},
   "outputs": [
    {
     "name": "stdout",
     "output_type": "stream",
     "text": [
      "stop words excluded training data accuracy: 64.2953%\n",
      "stop words excluded testing data accuracy: 53.7702%\n",
      "\n",
      "stop words included training data accuracy: 66.5071%\n",
      "stop words included testing data accuracy: 54.9542%\n",
      "\n",
      "difficult words only training data accuracy: 70.2128%\n",
      "difficult words only testing data accuracy: 53.4816%\n"
     ]
    }
   ],
   "source": [
    "print('stop words excluded training data accuracy: {:.4f}%'.format(stop_words_excluded_train_acc * 100))\n",
    "print('stop words excluded testing data accuracy: {:.4f}%'.format(stop_words_excluded_test_acc * 100))\n",
    "print()\n",
    "print('stop words included training data accuracy: {:.4f}%'.format(stop_words_included_train_acc * 100))\n",
    "print('stop words included testing data accuracy: {:.4f}%'.format(stop_words_included_test_acc * 100))\n",
    "print()\n",
    "print('difficult words only training data accuracy: {:.4f}%'.format(difficult_words_only_train_acc * 100))\n",
    "print('difficult words only testing data accuracy: {:.4f}%'.format(difficult_words_only_test_acc * 100))"
   ]
  }
 ],
 "metadata": {
  "kernelspec": {
   "display_name": "Python 3",
   "language": "python",
   "name": "python3"
  },
  "language_info": {
   "codemirror_mode": {
    "name": "ipython",
    "version": 3
   },
   "file_extension": ".py",
   "mimetype": "text/x-python",
   "name": "python",
   "nbconvert_exporter": "python",
   "pygments_lexer": "ipython3",
   "version": "3.7.4"
  }
 },
 "nbformat": 4,
 "nbformat_minor": 2
}
